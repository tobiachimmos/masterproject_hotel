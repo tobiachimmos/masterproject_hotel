{
  "nbformat": 4,
  "nbformat_minor": 0,
  "metadata": {
    "colab": {
      "name": "MasterDS_Python_project2",
      "provenance": [],
      "collapsed_sections": []
    },
    "kernelspec": {
      "name": "python3",
      "display_name": "Python 3"
    }
  },
  "cells": [
    {
      "cell_type": "code",
      "metadata": {
        "id": "QVERzr8N_dNs"
      },
      "source": [
        "import pandas as pd\r\n",
        "import numpy as np\r\n",
        "import matplotlib.pyplot as plt \r\n",
        "import seaborn as sns"
      ],
      "execution_count": 1,
      "outputs": []
    },
    {
      "cell_type": "code",
      "metadata": {
        "id": "5Vu4KTBI_dUu"
      },
      "source": [
        "guests = pd.read_excel(\"data/guests.xlsx\", index_col=0)\r\n",
        "guests.drop(\"guest\", axis= 1, inplace = True)\r\n",
        "guests = 1 - guests \r\n",
        "vec_discount = guests[\"discount\"].values #converts the discount column to a vector"
      ],
      "execution_count": 5,
      "outputs": []
    },
    {
      "cell_type": "code",
      "metadata": {
        "id": "reX2_W6J_dar"
      },
      "source": [
        "hotels = pd.read_excel(\"data/hotels.xlsx\", index_col=0)\r\n",
        "vec_prices = hotels[\"price\"].values"
      ],
      "execution_count": 6,
      "outputs": []
    },
    {
      "cell_type": "code",
      "metadata": {
        "id": "IzoQth2j_z1b"
      },
      "source": [
        "preferences = pd.read_excel(\"data/preferences.xlsx\", index_col=0)\r\n",
        "preferences[\"guest\"] = pd.to_numeric(preferences[\"guest\"].str.replace('guest_','')) - 1\r\n",
        "preferences[\"hotel\"] = pd.to_numeric(preferences[\"hotel\"].str.replace('hotel_','')) - 1\r\n",
        "pref_pivoted = pd.pivot_table(preferences, index ='guest', columns ='hotel', values= \"priority\" , aggfunc=\"min\") #it pivots the original dataframe to get to a matrix-like format\r\n",
        "rank_matrix = pref_pivoted.rank(axis = 1, method=\"dense\").values #reorders preferences"
      ],
      "execution_count": 7,
      "outputs": []
    },
    {
      "cell_type": "code",
      "metadata": {
        "id": "KIEiyzb-_deA"
      },
      "source": [
        "def to_utility_matrix(rank_matrix):\r\n",
        "  user_utility = []\r\n",
        "  for row in rank_matrix:\r\n",
        "    utility_values = np.linspace(start=1, stop= 0.1, num=len(set(row[~np.isnan(row)]))) #utility goes from 1 to 0.1 split evenly between preferences\r\n",
        "    user_utility.append([utility_values[int(i)-1] if i == i else i for i in row ]) #i == i to check if i is not nan \r\n",
        "  return np.nan_to_num(np.array(user_utility), nan = 0)"
      ],
      "execution_count": 8,
      "outputs": []
    },
    {
      "cell_type": "code",
      "metadata": {
        "id": "dsz7Gt9-_dhE"
      },
      "source": [
        "utility_matrix = to_utility_matrix(rank_matrix)"
      ],
      "execution_count": 9,
      "outputs": []
    },
    {
      "cell_type": "code",
      "metadata": {
        "id": "_i3rKAzlADiw"
      },
      "source": [
        "def results(choice_matrix, vec_prices=vec_prices, vec_discount=vec_discount, utility_matrix=utility_matrix):\r\n",
        "  guests_placed = choice_matrix.sum(axis=1).sum()\r\n",
        "  rooms_occupied = choice_matrix.sum(axis=0).sum()\r\n",
        "  hotels_occupied = np.where(choice_matrix.sum(axis=0) > 0, 1, 0).sum()\r\n",
        "  prices_matrix = vec_prices * choice_matrix #all 1s in the matrix will be replaced by that hotel's price\r\n",
        "  discount_matrix = np.multiply(prices_matrix, vec_discount[:, np.newaxis]) #the room price is then discounted for each user\r\n",
        "  revenue = discount_matrix.sum()\r\n",
        "  utility = np.multiply(choice_matrix, utility_matrix).sum()\r\n",
        "  return([guests_placed, rooms_occupied, hotels_occupied, revenue, utility])"
      ],
      "execution_count": 10,
      "outputs": []
    },
    {
      "cell_type": "code",
      "metadata": {
        "id": "f_os2hOZADwG"
      },
      "source": [
        "def random_model(hotels, vec_prices, vec_discount, rank_matrix, t=1000):\r\n",
        "  guest_count, room_count = rank_matrix.shape[0] , hotels[\"rooms\"].sum()\r\n",
        "  least = min([guest_count, room_count])\r\n",
        "  vec_rooms = np.repeat(hotels[\"price\"], hotels[\"rooms\"]).index.values #Denormalized the dataframe\r\n",
        "  res = [] \r\n",
        "  for _ in range(t):\r\n",
        "    choice_matrix = np.zeros(rank_matrix.shape) #creates filled with zeros 4000 x 400\r\n",
        "    random_rooms = np.random.choice(vec_rooms, least, replace=False ) #selects randomly 4000 rooms from all possible rooms\r\n",
        "    choice_matrix[tuple(range(least)),tuple(random_rooms)] = 1 #assign 1 in the choice matrix where room is occupied\r\n",
        "    res.append(results(choice_matrix, vec_prices, vec_discount))\r\n",
        "  return np.array(res)"
      ],
      "execution_count": 11,
      "outputs": []
    },
    {
      "cell_type": "code",
      "metadata": {
        "id": "KdLkIL9VAD4V"
      },
      "source": [
        "def preference_model(hotels, rank_matrix):\r\n",
        "  rank_matrix_filled, choice_matrix  = np.nan_to_num(rank_matrix), np.zeros(rank_matrix.shape) \r\n",
        "  rooms = hotels[\"rooms\"].values\r\n",
        "  for idx, row in enumerate(rank_matrix_filled):\r\n",
        "    c = np.multiply(row, np.where(rooms > 0, 1, 0) ) #sets preferences values to 0 where there is no room availability\r\n",
        "    try:\r\n",
        "      user_choice = np.where(c == np.min(c[np.nonzero(c)]), 1, 0) #The minimum nonzero is converted to 1 and the rest to 0\r\n",
        "      choice_matrix[(idx),] = user_choice\r\n",
        "      rooms = rooms - user_choice #subtract 1 from the room availability where it's now occupied \r\n",
        "    except ValueError: #pass if array are all zeros\r\n",
        "     pass\r\n",
        "  return  results(choice_matrix)"
      ],
      "execution_count": 12,
      "outputs": []
    },
    {
      "cell_type": "code",
      "metadata": {
        "id": "NKR_SsMwARS-"
      },
      "source": [
        "def room_model(hotels, rank_matrix):\r\n",
        "    choice_matrix = np.zeros(rank_matrix.shape) \r\n",
        "    pref_pivoted = pd.DataFrame(rank_matrix).T\r\n",
        "    pref_pivoted[\"price\"] = hotels[\"price\"]\r\n",
        "    pref_pivoted[\"rooms\"] =  hotels[\"rooms\"] #add columns with number of rooms and price per hotel\r\n",
        "    h_rooms = pref_pivoted.sort_values(by=['rooms', 'price'], ascending=[False, True]) # DF sorted by number of rooms and price\r\n",
        "    h_rooms = h_rooms.drop(columns=[\"rooms\",\"price\"]) # drop columns 'rooms' and 'price'\r\n",
        "    rooms = hotels[\"rooms\"].values # available rooms per hotel\r\n",
        "\r\n",
        "    for h, rows in h_rooms.iterrows():                          \r\n",
        "        df_pref = pd.DataFrame(rows.values, columns=['values']) # for each row in h_rooms: create DF with row values (preferences) and index\r\n",
        "        df_pref['index'] = df_pref.index.values \r\n",
        "        sorted_guests = df_pref.dropna().sort_values(by=['values','index'])['index'] # dropna, sort DF and consider 'index' of the remaining guests\r\n",
        "        selected_guests = sorted_guests[:rooms[h]].values # select as many guests as possible (maximum number: rooms[h])\r\n",
        "        \r\n",
        "        for guest in selected_guests:\r\n",
        "            choice_matrix[guest][h] = 1 # add selected guests to the choice_matrix\r\n",
        "            h_rooms.iloc[:][guest]= np.nan # for each selected guest transform preference values in np.nan \r\n",
        "    return  results(choice_matrix)"
      ],
      "execution_count": 13,
      "outputs": []
    },
    {
      "cell_type": "code",
      "metadata": {
        "id": "v_LAQumNARXM"
      },
      "source": [
        "def price_model(hotels, rank_matrix):\r\n",
        "    choice_matrix = np.zeros(rank_matrix.shape) #define matrix with zeros, same shape as rank_matrix\r\n",
        "    pref_pivoted = pd.DataFrame(rank_matrix).T \r\n",
        "    pref_pivoted[\"price\"] = hotels[\"price\"] #add a column with prices per hotel\r\n",
        "    pref_pivoted[\"rooms\"] = hotels[\"rooms\"] #add a column with number of rooms per hotel\r\n",
        "    pref_by_price = pref_pivoted.sort_values(by=['price', 'rooms'], ascending=[True, False]) #sorted by price and more rooms\r\n",
        "    pref_by_price = pref_by_price.drop(columns=[\"rooms\",\"price\"]) #drop columns: price and rooms\r\n",
        "    free_rooms = hotels[\"rooms\"].values #vector of rooms from dataset hotels\r\n",
        "    \r\n",
        "    for i, rows in pref_by_price.iterrows(): #for hotel with name i, consider the row of guests\r\n",
        "        hotel_i = pd.DataFrame(rows.values, columns=['values']) #transforming the row in dataframe \r\n",
        "        hotel_i['index'] = hotel_i.index.values #consider the index of values\r\n",
        "        hotel_i = hotel_i.dropna().sort_values(by=['values','index'])['index'] #soting\r\n",
        "        guest4hotel_i = hotel_i[:free_rooms[i]].values #take values of guests for free rooms\r\n",
        "        \r\n",
        "        for name_guest in guest4hotel_i:\r\n",
        "            choice_matrix[name_guest][i] = 1\r\n",
        "            pref_by_price.iloc[:][name_guest]= np.nan\r\n",
        "    return results(choice_matrix)"
      ],
      "execution_count": 14,
      "outputs": []
    },
    {
      "cell_type": "code",
      "metadata": {
        "id": "fKlK51qcAi48"
      },
      "source": [
        "random_results_array = random_model(hotels, vec_prices, vec_discount, rank_matrix, t=5000) "
      ],
      "execution_count": 34,
      "outputs": []
    },
    {
      "cell_type": "code",
      "metadata": {
        "id": "y1JibU9MBzj_"
      },
      "source": [
        "matrix_results = np.array([random_results_array.mean(axis=0),\r\n",
        "                           preference_model(hotels, rank_matrix),\r\n",
        "                           room_model(hotels, rank_matrix),\r\n",
        "                           price_model(hotels, rank_matrix)])"
      ],
      "execution_count": 35,
      "outputs": []
    },
    {
      "cell_type": "code",
      "metadata": {
        "colab": {
          "base_uri": "https://localhost:8080/",
          "height": 172
        },
        "id": "bf0HQRfhD89O",
        "outputId": "100e628e-03f6-48bf-e13f-d40a7aa97060"
      },
      "source": [
        "pd.DataFrame(matrix_results, index = ['Random Model','Preference Model','Availability Model','Price Model'], columns = ['Guests','Rooms','Hotels','Revenue', 'Satisfaction']).astype(int)"
      ],
      "execution_count": 36,
      "outputs": [
        {
          "output_type": "execute_result",
          "data": {
            "text/html": [
              "<div>\n",
              "<style scoped>\n",
              "    .dataframe tbody tr th:only-of-type {\n",
              "        vertical-align: middle;\n",
              "    }\n",
              "\n",
              "    .dataframe tbody tr th {\n",
              "        vertical-align: top;\n",
              "    }\n",
              "\n",
              "    .dataframe thead th {\n",
              "        text-align: right;\n",
              "    }\n",
              "</style>\n",
              "<table border=\"1\" class=\"dataframe\">\n",
              "  <thead>\n",
              "    <tr style=\"text-align: right;\">\n",
              "      <th></th>\n",
              "      <th>Guests</th>\n",
              "      <th>Rooms</th>\n",
              "      <th>Hotels</th>\n",
              "      <th>Revenue</th>\n",
              "      <th>Satisfaction</th>\n",
              "    </tr>\n",
              "  </thead>\n",
              "  <tbody>\n",
              "    <tr>\n",
              "      <th>Random Model</th>\n",
              "      <td>4000</td>\n",
              "      <td>4000</td>\n",
              "      <td>399</td>\n",
              "      <td>640462</td>\n",
              "      <td>131</td>\n",
              "    </tr>\n",
              "    <tr>\n",
              "      <th>Preference Model</th>\n",
              "      <td>3975</td>\n",
              "      <td>3975</td>\n",
              "      <td>400</td>\n",
              "      <td>643597</td>\n",
              "      <td>3895</td>\n",
              "    </tr>\n",
              "    <tr>\n",
              "      <th>Availability Model</th>\n",
              "      <td>4000</td>\n",
              "      <td>4000</td>\n",
              "      <td>341</td>\n",
              "      <td>633529</td>\n",
              "      <td>3679</td>\n",
              "    </tr>\n",
              "    <tr>\n",
              "      <th>Price Model</th>\n",
              "      <td>3990</td>\n",
              "      <td>3990</td>\n",
              "      <td>383</td>\n",
              "      <td>578798</td>\n",
              "      <td>3685</td>\n",
              "    </tr>\n",
              "  </tbody>\n",
              "</table>\n",
              "</div>"
            ],
            "text/plain": [
              "                    Guests  Rooms  Hotels  Revenue  Satisfaction\n",
              "Random Model          4000   4000     399   640462           131\n",
              "Preference Model      3975   3975     400   643597          3895\n",
              "Availability Model    4000   4000     341   633529          3679\n",
              "Price Model           3990   3990     383   578798          3685"
            ]
          },
          "metadata": {
            "tags": []
          },
          "execution_count": 36
        }
      ]
    },
    {
      "cell_type": "code",
      "metadata": {
        "colab": {
          "base_uri": "https://localhost:8080/",
          "height": 281
        },
        "id": "cfuNwj2SEanv",
        "outputId": "67427eb8-6d04-43ad-bf6f-7e93e0e8a4d3"
      },
      "source": [
        "fig, axes = plt.subplots(nrows=1, ncols=5, figsize=(20, 4))\r\n",
        "x = ['Random', 'Pref', 'Rooms', 'Price']\r\n",
        "clr = sns.color_palette(\"viridis\")\r\n",
        "axes[0].bar(x, matrix_results[:,0], color = clr )\r\n",
        "axes[0].set_title(\"Number of clients\")\r\n",
        "axes[0].set_ylim(3900,4020)\r\n",
        "axes[1].bar(x, matrix_results[:,1], color = clr)\r\n",
        "axes[1].set_title(\"Number of rooms\")\r\n",
        "axes[1].set_ylim(3900,4020)\r\n",
        "axes[2].bar(x, matrix_results[:,2], color = clr)\r\n",
        "axes[2].set_title(\"Number of hotels\")\r\n",
        "axes[2].set_ylim(300,410)\r\n",
        "axes[3].bar(x, matrix_results[:,3], color = clr)\r\n",
        "axes[3].set_title(\"Revenue\")\r\n",
        "axes[3].set_ylim(570000,650000)\r\n",
        "axes[4].bar(x, matrix_results[:,4], color = clr)\r\n",
        "axes[4].set_title(\"Degree of satisfaction\")\r\n",
        "axes[4].set_ylim(100,4050);"
      ],
      "execution_count": 37,
      "outputs": [
        {
          "output_type": "display_data",
          "data": {
            "image/png": "[encoded data removed]",
            "text/plain": [
              "<Figure size 1440x288 with 5 Axes>"
            ]
          },
          "metadata": {
            "tags": [],
            "needs_background": "light"
          }
        }
      ]
    },
    {
      "cell_type": "code",
      "metadata": {
        "colab": {
          "base_uri": "https://localhost:8080/",
          "height": 295
        },
        "id": "swi3aX04ETRA",
        "outputId": "c9438ac7-a836-4f77-de73-2a9db661647d"
      },
      "source": [
        "pd.DataFrame(random_results_array, columns = ['Guests','Rooms','Hotels','Revenue', 'Satisfaction']).describe().round(3)"
      ],
      "execution_count": 38,
      "outputs": [
        {
          "output_type": "execute_result",
          "data": {
            "text/html": [
              "<div>\n",
              "<style scoped>\n",
              "    .dataframe tbody tr th:only-of-type {\n",
              "        vertical-align: middle;\n",
              "    }\n",
              "\n",
              "    .dataframe tbody tr th {\n",
              "        vertical-align: top;\n",
              "    }\n",
              "\n",
              "    .dataframe thead th {\n",
              "        text-align: right;\n",
              "    }\n",
              "</style>\n",
              "<table border=\"1\" class=\"dataframe\">\n",
              "  <thead>\n",
              "    <tr style=\"text-align: right;\">\n",
              "      <th></th>\n",
              "      <th>Guests</th>\n",
              "      <th>Rooms</th>\n",
              "      <th>Hotels</th>\n",
              "      <th>Revenue</th>\n",
              "      <th>Satisfaction</th>\n",
              "    </tr>\n",
              "  </thead>\n",
              "  <tbody>\n",
              "    <tr>\n",
              "      <th>count</th>\n",
              "      <td>5000.0</td>\n",
              "      <td>5000.0</td>\n",
              "      <td>5000.000</td>\n",
              "      <td>5000.000</td>\n",
              "      <td>5000.000</td>\n",
              "    </tr>\n",
              "    <tr>\n",
              "      <th>mean</th>\n",
              "      <td>4000.0</td>\n",
              "      <td>4000.0</td>\n",
              "      <td>399.997</td>\n",
              "      <td>640462.381</td>\n",
              "      <td>131.826</td>\n",
              "    </tr>\n",
              "    <tr>\n",
              "      <th>std</th>\n",
              "      <td>0.0</td>\n",
              "      <td>0.0</td>\n",
              "      <td>0.058</td>\n",
              "      <td>1546.973</td>\n",
              "      <td>9.333</td>\n",
              "    </tr>\n",
              "    <tr>\n",
              "      <th>min</th>\n",
              "      <td>4000.0</td>\n",
              "      <td>4000.0</td>\n",
              "      <td>399.000</td>\n",
              "      <td>634588.110</td>\n",
              "      <td>101.991</td>\n",
              "    </tr>\n",
              "    <tr>\n",
              "      <th>25%</th>\n",
              "      <td>4000.0</td>\n",
              "      <td>4000.0</td>\n",
              "      <td>400.000</td>\n",
              "      <td>639461.620</td>\n",
              "      <td>125.475</td>\n",
              "    </tr>\n",
              "    <tr>\n",
              "      <th>50%</th>\n",
              "      <td>4000.0</td>\n",
              "      <td>4000.0</td>\n",
              "      <td>400.000</td>\n",
              "      <td>640467.900</td>\n",
              "      <td>131.762</td>\n",
              "    </tr>\n",
              "    <tr>\n",
              "      <th>75%</th>\n",
              "      <td>4000.0</td>\n",
              "      <td>4000.0</td>\n",
              "      <td>400.000</td>\n",
              "      <td>641481.942</td>\n",
              "      <td>137.994</td>\n",
              "    </tr>\n",
              "    <tr>\n",
              "      <th>max</th>\n",
              "      <td>4000.0</td>\n",
              "      <td>4000.0</td>\n",
              "      <td>400.000</td>\n",
              "      <td>646623.210</td>\n",
              "      <td>171.668</td>\n",
              "    </tr>\n",
              "  </tbody>\n",
              "</table>\n",
              "</div>"
            ],
            "text/plain": [
              "       Guests   Rooms    Hotels     Revenue  Satisfaction\n",
              "count  5000.0  5000.0  5000.000    5000.000      5000.000\n",
              "mean   4000.0  4000.0   399.997  640462.381       131.826\n",
              "std       0.0     0.0     0.058    1546.973         9.333\n",
              "min    4000.0  4000.0   399.000  634588.110       101.991\n",
              "25%    4000.0  4000.0   400.000  639461.620       125.475\n",
              "50%    4000.0  4000.0   400.000  640467.900       131.762\n",
              "75%    4000.0  4000.0   400.000  641481.942       137.994\n",
              "max    4000.0  4000.0   400.000  646623.210       171.668"
            ]
          },
          "metadata": {
            "tags": []
          },
          "execution_count": 38
        }
      ]
    },
    {
      "cell_type": "code",
      "metadata": {
        "colab": {
          "base_uri": "https://localhost:8080/",
          "height": 424
        },
        "id": "hSVUiYQbFJ5G",
        "outputId": "ec55c951-ad62-4351-f4ab-f2ac98ef5197"
      },
      "source": [
        "fig, axes = plt.subplots(nrows=1, ncols=2, figsize=(13, 5)) #values of matrix_results\r\n",
        "x = ['Random', 'Pref', 'Rooms', 'Price']\r\n",
        "axes[0].boxplot([random_results_array[:,3], matrix_results[1][3], matrix_results[2][3], matrix_results[3][3]], labels = x)\r\n",
        "axes[0].set_title(\"Revenue\")\r\n",
        "axes[1].boxplot([random_results_array[:,4], matrix_results[1][4], matrix_results[2][4], matrix_results[3][4]], labels = x)\r\n",
        "axes[1].set_title(\"Degree of satisfaction\");"
      ],
      "execution_count": 39,
      "outputs": [
        {
          "output_type": "stream",
          "text": [
            "/usr/local/lib/python3.6/dist-packages/numpy/core/_asarray.py:83: VisibleDeprecationWarning: Creating an ndarray from ragged nested sequences (which is a list-or-tuple of lists-or-tuples-or ndarrays with different lengths or shapes) is deprecated. If you meant to do this, you must specify 'dtype=object' when creating the ndarray\n",
            "  return array(a, dtype, copy=False, order=order)\n",
            "/usr/local/lib/python3.6/dist-packages/numpy/core/_asarray.py:83: VisibleDeprecationWarning: Creating an ndarray from ragged nested sequences (which is a list-or-tuple of lists-or-tuples-or ndarrays with different lengths or shapes) is deprecated. If you meant to do this, you must specify 'dtype=object' when creating the ndarray\n",
            "  return array(a, dtype, copy=False, order=order)\n"
          ],
          "name": "stderr"
        },
        {
          "output_type": "display_data",
          "data": {
            "image/png": "[encoded data removed]",
            "text/plain": [
              "<Figure size 936x360 with 2 Axes>"
            ]
          },
          "metadata": {
            "tags": [],
            "needs_background": "light"
          }
        }
      ]
    },
    {
      "cell_type": "code",
      "metadata": {
        "colab": {
          "base_uri": "https://localhost:8080/",
          "height": 265
        },
        "id": "q6Wzx1a-HQLM",
        "outputId": "8d6ba680-a334-4c24-8210-6a3c312059b0"
      },
      "source": [
        "sns.histplot(random_results_array[:,3], color = 'darkcyan', kde=True) #Revenue for Random Model\r\n",
        "plt.axvline(np.median(random_results_array[:,3]), color ='b', linestyle='--')\r\n",
        "plt.axvline(np.mean(random_results_array[:,3]), color ='r', linestyle='-')\r\n",
        "plt.axvline(matrix_results[1][3], color ='orange', linestyle=':')\r\n",
        "plt.axvline(matrix_results[2][3], color ='magenta', linestyle=':')\r\n",
        "plt.legend(labels=['revenue Random','median Random', 'mean Random', \"revenue Pref\", \"revenue Rooms\"]);"
      ],
      "execution_count": 40,
      "outputs": [
        {
          "output_type": "display_data",
          "data": {
            "image/png": "[encoded data removed]",
            "text/plain": [
              "<Figure size 432x288 with 1 Axes>"
            ]
          },
          "metadata": {
            "tags": [],
            "needs_background": "light"
          }
        }
      ]
    },
    {
      "cell_type": "code",
      "metadata": {
        "colab": {
          "base_uri": "https://localhost:8080/",
          "height": 265
        },
        "id": "o_5E8Ms5NGe7",
        "outputId": "6d05f3e9-22fe-4e76-9dd0-bceb00d5efbf"
      },
      "source": [
        "sns.histplot(random_results_array[:,4], kde=True) #Degree of satisfaction for Random Model\r\n",
        "plt.axvline(np.median(random_results_array[:,4]), color ='b', linestyle='--')\r\n",
        "plt.axvline(np.mean(random_results_array[:,4]), color ='r', linestyle='-')\r\n",
        "plt.legend(labels=['Satisfaction','median', 'mean']);"
      ],
      "execution_count": 41,
      "outputs": [
        {
          "output_type": "display_data",
          "data": {
            "image/png": "[encoded data removed]",
            "text/plain": [
              "<Figure size 432x288 with 1 Axes>"
            ]
          },
          "metadata": {
            "tags": [],
            "needs_background": "light"
          }
        }
      ]
    }
  ]
}