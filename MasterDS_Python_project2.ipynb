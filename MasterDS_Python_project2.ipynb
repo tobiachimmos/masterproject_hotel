{
  "nbformat": 4,
  "nbformat_minor": 0,
  "metadata": {
    "colab": {
      "name": "MasterDS_Python_project2",
      "provenance": [],
      "collapsed_sections": []
    },
    "kernelspec": {
      "name": "python3",
      "display_name": "Python 3"
    }
  },
  "cells": [
    {
      "cell_type": "code",
      "metadata": {
        "id": "ZpJiONtn4HQY"
      },
      "source": [
        "import pandas as pd\n",
        "import numpy as np"
      ],
      "execution_count": 10,
      "outputs": []
    },
    {
      "cell_type": "code",
      "metadata": {
        "id": "Kg0e5qL2Cd32"
      },
      "source": [
        "guests = pd.read_excel(\"/content/drive/MyDrive/guests.xlsx\", index_col=0)\r\n",
        "guests.drop(\"guest\", axis= 1, inplace = True)\r\n",
        "guests = 1 - guests \r\n",
        "vec_discount = guests[\"discount\"].values #converts the discount column to a vector"
      ],
      "execution_count": 2,
      "outputs": []
    },
    {
      "cell_type": "code",
      "metadata": {
        "id": "c4AxmWzTCeB9"
      },
      "source": [
        "hotels = pd.read_excel(\"/content/drive/MyDrive/hotels.xlsx\", index_col=0)\r\n",
        "vec_prices = hotels[\"price\"].values"
      ],
      "execution_count": 3,
      "outputs": []
    },
    {
      "cell_type": "code",
      "metadata": {
        "id": "yXQyb0iPhWVT"
      },
      "source": [
        "preferences = pd.read_excel(\"/content/drive/MyDrive/preferences.xlsx\", index_col=0)\r\n",
        "preferences[\"guest\"] = pd.to_numeric(preferences[\"guest\"].str.replace('guest_','')) - 1\r\n",
        "preferences[\"hotel\"] = pd.to_numeric(preferences[\"hotel\"].str.replace('hotel_','')) - 1\r\n",
        "pref_pivoted = pd.pivot_table(preferences, index ='guest', columns ='hotel', values= \"priority\" , aggfunc=\"min\") #it pivots the original dataframe to get to a matrix-like format\r\n",
        "rank_matrix = pref_pivoted.rank(axis = 1, method=\"dense\").values #reorders preferences"
      ],
      "execution_count": 4,
      "outputs": []
    },
    {
      "cell_type": "code",
      "metadata": {
        "id": "ehljlkTjlz5E"
      },
      "source": [
        "#This function creates a utility matrix from the ranked preferences matrix\r\n",
        "def to_utility_matrix(rank_matrix):\r\n",
        "  user_utility = []\r\n",
        "  for row in rank_matrix:\r\n",
        "    utility_values = np.linspace(start=1, stop= 0.1, num=len(set(row[~np.isnan(row)]))) #utility goes from 1 to 0.1 split evenly between preferences\r\n",
        "    user_utility.append([utility_values[int(i)-1] if i == i else i for i in row ]) #i == i to check if i is not nan \r\n",
        "  return np.nan_to_num(np.array(user_utility), nan = 0)"
      ],
      "execution_count": 5,
      "outputs": []
    },
    {
      "cell_type": "code",
      "metadata": {
        "id": "Dbag1Ymxl1yq"
      },
      "source": [
        "utility_matrix = to_utility_matrix(rank_matrix)"
      ],
      "execution_count": 24,
      "outputs": []
    },
    {
      "cell_type": "code",
      "metadata": {
        "id": "pou_4Lfe1wYY"
      },
      "source": [
        "# def print_output(res, guest_count, room_count, hotel_count, t):\r\n",
        "#   res_avg = np.round_(np.array(res).mean(axis=0), 3)\r\n",
        "#   print(f\"With {t} iterations, on average we have: \\n{res_avg[0]}/{guest_count} guests placed \\n{res_avg[1]}/{room_count} rooms occupied \\n{res_avg[2]}/{hotel_count} hotels occupied \\n{res_avg[3]} total revenue \\n{res_avg[4]} total satisfaction\")"
      ],
      "execution_count": 12,
      "outputs": []
    },
    {
      "cell_type": "code",
      "metadata": {
        "id": "IdQZoy6eskYX"
      },
      "source": [
        "def results(choice_matrix, vec_prices=vec_prices, vec_discount=vec_discount, utility_matrix=utility_matrix):\r\n",
        "  guests_placed = choice_matrix.sum(axis=1).sum()\r\n",
        "  rooms_occupied = choice_matrix.sum(axis=0).sum()\r\n",
        "  hotels_occupied = np.where(choice_matrix.sum(axis=0) > 0, 1, 0).sum()\r\n",
        "  prices_matrix = vec_prices * choice_matrix #all 1s in the matrix will be replaced by that hotel's price\r\n",
        "  discount_matrix = np.multiply(prices_matrix, vec_discount[:, np.newaxis]) #the room price is then discounted for each user\r\n",
        "  revenue = discount_matrix.sum()\r\n",
        "  utility = np.multiply(choice_matrix, utility_matrix).sum()\r\n",
        "  return([guests_placed, rooms_occupied, hotels_occupied, revenue, utility])"
      ],
      "execution_count": 13,
      "outputs": []
    },
    {
      "cell_type": "code",
      "metadata": {
        "id": "OpT31n2ZCxak"
      },
      "source": [
        "def random_model(hotels, vec_prices, vec_discount, rank_matrix, t=1000):\r\n",
        "  guest_count, room_count, hotel_count = rank_matrix.shape[0] , hotels[\"rooms\"].sum(), rank_matrix.shape[1]\r\n",
        "  least = min([guest_count, room_count])\r\n",
        "  res = []\r\n",
        "  vec_rooms = np.repeat(hotels[\"price\"], hotels[\"rooms\"]).index.values #Denormalized the dataframe by adding rows. This vec contains the hotel number as many times as its rooms \r\n",
        "  for _ in range(t):\r\n",
        "    choice_matrix = np.zeros(rank_matrix.shape) #creates filled with zeros 4000 x 400\r\n",
        "    random_rooms = np.random.choice(vec_rooms, least, replace=False ) #selects randomly 4000 rooms from all possible rooms\r\n",
        "    choice_matrix[tuple(range(least)),tuple(random_rooms)] = 1 #assign 1 to all occupied rooms given their indices\r\n",
        "    res.append(results(choice_matrix, vec_prices, vec_discount))\r\n",
        "  return list(np.array(res).mean(axis=0))"
      ],
      "execution_count": 16,
      "outputs": []
    },
    {
      "cell_type": "code",
      "metadata": {
        "id": "5Ze4TXTMyKAD"
      },
      "source": [
        "def preference_model(hotels, vec_prices, rank_matrix):\r\n",
        "  rank_matrix_filled, choice_matrix  = np.nan_to_num(rank_matrix), np.zeros(rank_matrix.shape) \r\n",
        "  rooms = hotels[\"rooms\"].values\r\n",
        "  for idx, row in enumerate(rank_matrix_filled):\r\n",
        "    c = np.multiply(row, np.where(rooms > 0, 1, 0) ) #sets preferences values to 0 where there is no room availability\r\n",
        "    try:\r\n",
        "      user_choice = np.where(c == np.min(c[np.nonzero(c)]), 1, 0) #The minimum nonzero is converted to 1 and the rest to 0\r\n",
        "      choice_matrix[(idx),] = user_choice\r\n",
        "      rooms = rooms - user_choice #subtract 1 from the room availability where it's now occupied \r\n",
        "    except ValueError: #pass if array are all zeros\r\n",
        "     pass\r\n",
        "  return  results(choice_matrix)"
      ],
      "execution_count": 25,
      "outputs": []
    },
    {
      "cell_type": "code",
      "metadata": {
        "colab": {
          "base_uri": "https://localhost:8080/"
        },
        "id": "UvixdWU6_-G6",
        "outputId": "3c06d79f-0355-49af-8420-48acd57ec50e"
      },
      "source": [
        "random_model(hotels, vec_prices, vec_discount, rank_matrix, t=1000)"
      ],
      "execution_count": 18,
      "outputs": [
        {
          "output_type": "execute_result",
          "data": {
            "text/plain": [
              "[4000.0, 4000.0, 399.995, 640456.8860099999, 131.87062605384224]"
            ]
          },
          "metadata": {
            "tags": []
          },
          "execution_count": 18
        }
      ]
    },
    {
      "cell_type": "code",
      "metadata": {
        "colab": {
          "base_uri": "https://localhost:8080/"
        },
        "id": "W5IICsyrR7Bq",
        "outputId": "adcdfa18-4ab8-493f-c9f4-6f8dd8403926"
      },
      "source": [
        "preference_model(hotels, vec_prices, rank_matrix)"
      ],
      "execution_count": 27,
      "outputs": [
        {
          "output_type": "execute_result",
          "data": {
            "text/plain": [
              "[3975.0, 3975.0, 400, 643597.5300000005, 3895.433198505531]"
            ]
          },
          "metadata": {
            "tags": []
          },
          "execution_count": 27
        }
      ]
    }
  ]
}