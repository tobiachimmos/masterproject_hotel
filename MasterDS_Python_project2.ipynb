{
  "nbformat": 4,
  "nbformat_minor": 0,
  "metadata": {
    "colab": {
      "name": "MasterDS_Python_project2",
      "provenance": [],
      "collapsed_sections": []
    },
    "kernelspec": {
      "name": "python3",
      "display_name": "Python 3"
    }
  },
  "cells": [
    {
      "cell_type": "code",
      "metadata": {
        "id": "ZpJiONtn4HQY"
      },
      "source": [
        "import pandas as pd\n",
        "import numpy as np"
      ],
      "execution_count": 6,
      "outputs": []
    },
    {
      "cell_type": "code",
      "metadata": {
        "id": "Kg0e5qL2Cd32"
      },
      "source": [
        "guests = pd.read_excel(\"/content/drive/MyDrive/guests.xlsx\", index_col=0)\r\n",
        "guests.drop(\"guest\", axis= 1, inplace = True)\r\n",
        "guests = 1 - guests \r\n",
        "vec_discount = guests[\"discount\"].values #converts the discount column to a vector"
      ],
      "execution_count": 7,
      "outputs": []
    },
    {
      "cell_type": "code",
      "metadata": {
        "id": "c4AxmWzTCeB9"
      },
      "source": [
        "hotels = pd.read_excel(\"/content/drive/MyDrive/hotels.xlsx\", index_col=0)\r\n",
        "vec_prices = hotels[\"price\"].values"
      ],
      "execution_count": 8,
      "outputs": []
    },
    {
      "cell_type": "code",
      "metadata": {
        "id": "EP1cbhXvljNd"
      },
      "source": [
        "preferences = pd.read_excel(\"/content/drive/MyDrive/preferences.xlsx\", index_col=0)\r\n",
        "preferences[\"guest\"] = pd.to_numeric(preferences[\"guest\"].str.replace('guest_',''))\r\n",
        "preferences[\"hotel\"] = pd.to_numeric(preferences[\"hotel\"].str.replace('hotel_',''))\r\n",
        "pref_pivoted = pd.pivot_table(preferences, index ='guest', columns ='hotel', values= \"priority\" ) #it pivots the original dataframe to get to a matrix-like format\r\n",
        "pref_pivoted_ranked = pref_pivoted.rank(axis = 1, method=\"dense\") #revrite preferences to not include decimal values. Equal preferences are kept dense \r\n",
        "rank_matrix = pref_pivoted_ranked.values #dataframe to matrix"
      ],
      "execution_count": 9,
      "outputs": []
    },
    {
      "cell_type": "code",
      "metadata": {
        "id": "ehljlkTjlz5E"
      },
      "source": [
        "#This function creates a utility matrix from the ranked preferences matrix\r\n",
        "def to_utility_matrix(rank_matrix):\r\n",
        "  user_utility = []\r\n",
        "  for row in rank_matrix:\r\n",
        "    utility_values = np.linspace(start=1, stop= 0.1, num=len(set(row[~np.isnan(row)]))) #utility goes from 1 to 0.1 split evenly between preferences\r\n",
        "    user_utility.append([utility_values[int(i)-1] if i == i else i for i in row ]) #i == i to check if i is not nan \r\n",
        "  return np.nan_to_num(np.array(user_utility), nan = 0)"
      ],
      "execution_count": 10,
      "outputs": []
    },
    {
      "cell_type": "code",
      "metadata": {
        "id": "Dbag1Ymxl1yq"
      },
      "source": [
        "utility_matrix = to_utility_matrix(rank_matrix)"
      ],
      "execution_count": 11,
      "outputs": []
    },
    {
      "cell_type": "code",
      "metadata": {
        "id": "pou_4Lfe1wYY"
      },
      "source": [
        "def print_output(res, guest_count, room_count, hotel_count, t):\r\n",
        "  res_avg = np.round_(np.array(res).mean(axis=0), 3)\r\n",
        "  print(f\"With {t} iterations of the random model, on average we have: \\n{res_avg[0]}/{guest_count} guests placed \\n{res_avg[1]}/{room_count} rooms occupied \\n{res_avg[2]}/{hotel_count} hotels occupied \\n{res_avg[3]} total revenue \\n{res_avg[4]} total satisfaction\")"
      ],
      "execution_count": 12,
      "outputs": []
    },
    {
      "cell_type": "code",
      "metadata": {
        "id": "IdQZoy6eskYX"
      },
      "source": [
        "def results(choice_matrix, vec_prices, vec_discount, utility_matrix):\r\n",
        "  guests_placed = choice_matrix.sum(axis=1).sum()\r\n",
        "  rooms_occupied = choice_matrix.sum(axis=0).sum()\r\n",
        "  hotels_occupied = np.where(choice_matrix.sum(axis=0) > 0, 1, 0).sum()\r\n",
        "  prices_matrix = vec_prices * choice_matrix #all 1s in the matrix will be replaced by that hotel's price\r\n",
        "  discount_matrix = np.multiply(prices_matrix, vec_discount[:, np.newaxis]) #the room price is then discounted for each user\r\n",
        "  revenue = discount_matrix.sum()\r\n",
        "  utility = np.multiply(choice_matrix, utility_matrix).sum()\r\n",
        "  return([guests_placed, rooms_occupied, hotels_occupied, revenue, utility])"
      ],
      "execution_count": 13,
      "outputs": []
    },
    {
      "cell_type": "code",
      "metadata": {
        "id": "beLt2JHyxGJw"
      },
      "source": [
        "def random_model(hotels, vec_prices, vec_discount, rank_matrix, utility_matrix, t=1000):\r\n",
        "  guest_count, room_count, hotel_count =  len(vec_discount), hotels[\"rooms\"].sum(), len(hotels)\r\n",
        "  res= []\r\n",
        "  hotels_denorm = np.repeat(hotels[\"price\"],hotels[\"rooms\"]) #the room price is duplicated in a new row for each room in a hotel. This removes one dimension\r\n",
        "  vec_rooms = hotels_denorm.index.values # vector containing an hotel number for as many room it has\r\n",
        "  for _ in range(t):\r\n",
        "    choice_matrix = np.zeros(rank_matrix.shape) #creates filled with zeros 4000 x 400\r\n",
        "    random_rooms = np.random.choice(vec_rooms, min([room_count, guest_count]), replace=False ) #selects randomly 4000 rooms from all possible rooms\r\n",
        "    for i, j in enumerate(random_rooms): \r\n",
        "      choice_matrix[i][j] = 1 #in this matrix we will have all zeros except a 1 per row\r\n",
        "    res.append(results(choice_matrix, vec_prices, vec_discount, utility_matrix))\r\n",
        "  return print_output(res, guest_count, room_count, hotel_count, t)"
      ],
      "execution_count": 24,
      "outputs": []
    },
    {
      "cell_type": "code",
      "metadata": {
        "id": "5Ze4TXTMyKAD"
      },
      "source": [
        "def preference_model(hotels, vec_prices, vec_discount, rank_matrix, utility_matrix, t=1000):\r\n",
        "  rank_matrix_filled = np.nan_to_num(rank_matrix, 0) #fill nans with zeros\r\n",
        "  guest_count, room_count, hotel_count =  len(vec_discount), hotels[\"rooms\"].sum(), len(hotels)\r\n",
        "  res = []\r\n",
        "  for _ in range(t):\r\n",
        "    rooms = hotels[\"rooms\"].values\r\n",
        "    choice_matrix = []\r\n",
        "    for row in rank_matrix_filled:\r\n",
        "      room_mask = np.where(rooms > 0, 1, 0) # converts room vec so that rooms with more than 0 availability equal 1\r\n",
        "      c = np.multiply(row, room_mask ) #sets preferences values to 0 where there is no availability\r\n",
        "      try:\r\n",
        "        c = np.where(c > np.min(c[np.nonzero(c)]), 0, c) #replaces all values with 0 except the minimum nonzero\r\n",
        "        c = np.where( c > 0, 1, c ) #converts all values bigger than 0 into 1\r\n",
        "      except ValueError: #pass if array are all zeros\r\n",
        "        pass\r\n",
        "      if c.sum() > 1: #in case there are more than one preference\r\n",
        "        idx = list(np.where(c != 0)[0]) # get the index of the non-zero values\r\n",
        "        idx.pop(np.random.randint(0, len(idx))) #randomly eliminates one of those indexes\r\n",
        "        c[idx] = 0 #values at the remaining indexes are set to 0\r\n",
        "      rooms = rooms - c #subtract 1 from the room availability where it's now occupied \r\n",
        "      choice_matrix.append(c)\r\n",
        "    res.append(results(np.array(choice_matrix), vec_prices, vec_discount, utility_matrix))\r\n",
        "  return print_output(res, guest_count, room_count, hotel_count, t)"
      ],
      "execution_count": 31,
      "outputs": []
    },
    {
      "cell_type": "code",
      "metadata": {
        "colab": {
          "base_uri": "https://localhost:8080/"
        },
        "id": "UvixdWU6_-G6",
        "outputId": "2b399c3d-97c0-4c93-9f06-82eb4d47a517"
      },
      "source": [
        "random_model(hotels, vec_prices, vec_discount, rank_matrix, utility_matrix, t=100)"
      ],
      "execution_count": 28,
      "outputs": [
        {
          "output_type": "stream",
          "text": [
            "With 100 iterations of the random model, on average we have: \n",
            "4000.0/4000 guests placed \n",
            "4000.0/4617 rooms occupied \n",
            "400.0/400 hotels occupied \n",
            "640422.159 total revenue \n",
            "131.154 total satisfaction\n"
          ],
          "name": "stdout"
        }
      ]
    },
    {
      "cell_type": "code",
      "metadata": {
        "colab": {
          "base_uri": "https://localhost:8080/"
        },
        "id": "W5IICsyrR7Bq",
        "outputId": "9d247675-f8c9-4bc5-8a55-b38e4367a659"
      },
      "source": [
        "preference_model(hotels, vec_prices, vec_discount, rank_matrix, utility_matrix, t=10)"
      ],
      "execution_count": 33,
      "outputs": [
        {
          "output_type": "stream",
          "text": [
            "With 10 iterations of the random model, on average we have: \n",
            "3974.5/4000 guests placed \n",
            "3974.5/4617 rooms occupied \n",
            "400.0/400 hotels occupied \n",
            "643079.906 total revenue \n",
            "3892.052 total satisfaction\n"
          ],
          "name": "stdout"
        }
      ]
    }
  ]
}