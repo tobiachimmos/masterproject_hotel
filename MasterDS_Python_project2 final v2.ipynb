{
 "cells": [
  {
   "cell_type": "code",
   "execution_count": 1,
   "metadata": {
    "id": "ZpJiONtn4HQY"
   },
   "outputs": [],
   "source": [
    "import pandas as pd\n",
    "import numpy as np\n",
    "import matplotlib.pyplot as plt \n",
    "import seaborn as sns"
   ]
  },
  {
   "cell_type": "code",
   "execution_count": 2,
   "metadata": {
    "id": "Kg0e5qL2Cd32"
   },
   "outputs": [],
   "source": [
    "guests = pd.read_excel(\"data/guests.xlsx\", index_col=0)\n",
    "guests.drop(\"guest\", axis= 1, inplace = True)\n",
    "guests = 1 - guests \n",
    "vec_discount = guests[\"discount\"].values #converts the discount column to a vector"
   ]
  },
  {
   "cell_type": "code",
   "execution_count": 3,
   "metadata": {
    "id": "c4AxmWzTCeB9"
   },
   "outputs": [],
   "source": [
    "hotels = pd.read_excel(\"data/hotels.xlsx\", index_col=0)\n",
    "vec_prices = hotels[\"price\"].values"
   ]
  },
  {
   "cell_type": "code",
   "execution_count": 4,
   "metadata": {
    "id": "yXQyb0iPhWVT"
   },
   "outputs": [],
   "source": [
    "preferences = pd.read_excel(\"data/preferences.xlsx\", index_col=0)\n",
    "preferences[\"guest\"] = pd.to_numeric(preferences[\"guest\"].str.replace('guest_','')) - 1\n",
    "preferences[\"hotel\"] = pd.to_numeric(preferences[\"hotel\"].str.replace('hotel_','')) - 1\n",
    "pref_pivoted = pd.pivot_table(preferences, index ='guest', columns ='hotel', values= \"priority\" , aggfunc=\"min\") #it pivots the original dataframe to get to a matrix-like format\n",
    "rank_matrix = pref_pivoted.rank(axis = 1, method=\"dense\").values #reorders preferences"
   ]
  },
  {
   "cell_type": "code",
   "execution_count": 5,
   "metadata": {
    "id": "ehljlkTjlz5E"
   },
   "outputs": [],
   "source": [
    "#This function creates a utility matrix from the ranked preferences matrix\n",
    "def to_utility_matrix(rank_matrix):\n",
    "  user_utility = []\n",
    "  for row in rank_matrix:\n",
    "    utility_values = np.linspace(start=1, stop= 0.1, num=len(set(row[~np.isnan(row)]))) #utility goes from 1 to 0.1 split evenly between preferences\n",
    "    user_utility.append([utility_values[int(i)-1] if i == i else i for i in row ]) #i == i to check if i is not nan \n",
    "  return np.nan_to_num(np.array(user_utility), nan = 0)"
   ]
  },
  {
   "cell_type": "code",
   "execution_count": 6,
   "metadata": {
    "id": "Dbag1Ymxl1yq"
   },
   "outputs": [],
   "source": [
    "utility_matrix = to_utility_matrix(rank_matrix)"
   ]
  },
  {
   "cell_type": "code",
   "execution_count": 7,
   "metadata": {
    "id": "pou_4Lfe1wYY"
   },
   "outputs": [],
   "source": [
    "# def print_output(res, guest_count, room_count, hotel_count, t):\n",
    "#   res_avg = np.round_(np.array(res).mean(axis=0), 3)\n",
    "#   print(f\"With {t} iterations, on average we have: \\n{res_avg[0]}/{guest_count} guests placed \\n{res_avg[1]}/{room_count} rooms occupied \\n{res_avg[2]}/{hotel_count} hotels occupied \\n{res_avg[3]} total revenue \\n{res_avg[4]} total satisfaction\")"
   ]
  },
  {
   "cell_type": "code",
   "execution_count": 8,
   "metadata": {
    "id": "IdQZoy6eskYX"
   },
   "outputs": [],
   "source": [
    "def results(choice_matrix, vec_prices=vec_prices, vec_discount=vec_discount, utility_matrix=utility_matrix):\n",
    "  guests_placed = choice_matrix.sum(axis=1).sum()\n",
    "  rooms_occupied = choice_matrix.sum(axis=0).sum()\n",
    "  hotels_occupied = np.where(choice_matrix.sum(axis=0) > 0, 1, 0).sum()\n",
    "  prices_matrix = vec_prices * choice_matrix #all 1s in the matrix will be replaced by that hotel's price\n",
    "  discount_matrix = np.multiply(prices_matrix, vec_discount[:, np.newaxis]) #the room price is then discounted for each user\n",
    "  revenue = discount_matrix.sum()\n",
    "  utility = np.multiply(choice_matrix, utility_matrix).sum()\n",
    "  return([guests_placed, rooms_occupied, hotels_occupied, revenue, utility])"
   ]
  },
  {
   "cell_type": "code",
   "execution_count": 9,
   "metadata": {
    "id": "OpT31n2ZCxak"
   },
   "outputs": [],
   "source": [
    "def random_model(hotels, vec_prices, vec_discount, rank_matrix, t=1000):\n",
    "  guest_count, room_count, hotel_count = rank_matrix.shape[0] , hotels[\"rooms\"].sum(), rank_matrix.shape[1]\n",
    "  least = min([guest_count, room_count])\n",
    "  res = []\n",
    "  vec_rooms = np.repeat(hotels[\"price\"], hotels[\"rooms\"]).index.values #Denormalized the dataframe by adding rows. This vec contains the hotel number as many times as its rooms \n",
    "  for _ in range(t):\n",
    "    choice_matrix = np.zeros(rank_matrix.shape) #creates filled with zeros 4000 x 400\n",
    "    random_rooms = np.random.choice(vec_rooms, least, replace=False ) #selects randomly 4000 rooms from all possible rooms\n",
    "    choice_matrix[tuple(range(least)),tuple(random_rooms)] = 1 #assign 1 to all occupied rooms given their indices\n",
    "    res.append(results(choice_matrix, vec_prices, vec_discount))\n",
    "    #list(np.array(res).mean(axis=0))\n",
    "  return np.array(res)"
   ]
  },
  {
   "cell_type": "code",
   "execution_count": 10,
   "metadata": {
    "id": "5Ze4TXTMyKAD"
   },
   "outputs": [],
   "source": [
    "def preference_model(hotels, vec_prices, rank_matrix):\n",
    "  rank_matrix_filled, choice_matrix  = np.nan_to_num(rank_matrix), np.zeros(rank_matrix.shape) \n",
    "  rooms = hotels[\"rooms\"].values\n",
    "  for idx, row in enumerate(rank_matrix_filled):\n",
    "    c = np.multiply(row, np.where(rooms > 0, 1, 0) ) #sets preferences values to 0 where there is no room availability\n",
    "    try:\n",
    "      user_choice = np.where(c == np.min(c[np.nonzero(c)]), 1, 0) #The minimum nonzero is converted to 1 and the rest to 0\n",
    "      choice_matrix[(idx),] = user_choice\n",
    "      rooms = rooms - user_choice #subtract 1 from the room availability where it's now occupied \n",
    "    except ValueError: #pass if array are all zeros\n",
    "     pass\n",
    "  return  results(choice_matrix)"
   ]
  },
  {
   "cell_type": "code",
   "execution_count": 11,
   "metadata": {},
   "outputs": [],
   "source": [
    "def room_model(hotels,rank_matrix):\n",
    "\n",
    "    pref_pivoted = pd.DataFrame(rank_matrix).T\n",
    "    pref_pivoted[\"price\"] = hotels[\"price\"]\n",
    "    pref_pivoted[\"rooms\"] =  hotels[\"rooms\"] #add columns with number of rooms and price per hotel\n",
    "    h_rooms = pref_pivoted.sort_values(by=['rooms', 'price'], ascending=[False, True]) # DF sorted by number of rooms and price\n",
    "    h_rooms = h_rooms.drop(columns=[\"rooms\",\"price\"]) # drop columns 'rooms' and 'price'\n",
    "\n",
    "    choice_matrix = np.zeros(rank_matrix.shape) \n",
    "    rooms = hotels[\"rooms\"].values # available rooms per hotel\n",
    "\n",
    "    for h, rows in h_rooms.iterrows():                          \n",
    "        df_pref = pd.DataFrame(rows.values, columns=['values']) # for each row in h_rooms: create DF with row values (preferences) and index\n",
    "        df_pref['index'] = df_pref.index.values \n",
    "        sorted_guests = df_pref.dropna().sort_values(by=['values','index'])['index'] # dropna, sort DF and consider 'index' of the remaining guests\n",
    "        selected_guests = sorted_guests[:rooms[h]].values # select as many guests as possible (maximum number: rooms[h])\n",
    "        \n",
    "        for guest in selected_guests:\n",
    "            choice_matrix[guest][h] = 1 # add selected guests to the choice_matrix\n",
    "            #h_rooms.drop([idx], axis=1) ??????\n",
    "            h_rooms.iloc[:][guest]= np.nan # for each selected guest transform preference values in np.nan \n",
    "        \n",
    "        \n",
    "        \n",
    "        \n",
    "    return  results(choice_matrix)"
   ]
  },
  {
   "cell_type": "code",
   "execution_count": null,
   "metadata": {},
   "outputs": [],
   "source": [
    "def price_model(hotels, rank_matrix):\n",
    "    pref_pivoted = pd.DataFrame(rank_matrix).T \n",
    "    pref_pivoted[\"price\"] = hotels[\"price\"] #add a column with prices per hotel\n",
    "    pref_pivoted[\"rooms\"] = hotels[\"rooms\"] #add a column with number of rooms per hotel\n",
    "    pref_by_price = pref_pivoted.sort_values(by=['price', 'rooms'], ascending=[True, False]) #sorted by price and more rooms\n",
    "    pref_by_price = pref_by_price.drop(columns=[\"rooms\",\"price\"]) #drop columns: price and rooms\n",
    "    choice_matrix = np.zeros(rank_matrix.shape) #define matrix with zeros, same shape as rank_matrix\n",
    "    free_rooms = hotels[\"rooms\"].values #vector of rooms from dataset hotels\n",
    "    \n",
    "    for i, rows in pref_by_price.iterrows(): #for hotel with name i, consider the row of guests\n",
    "        hotel_i = pd.DataFrame(rows.values, columns=['values']) #transforming the row in dataframe \n",
    "        hotel_i['index'] = hotel_i.index.values #consider the index of values\n",
    "        hotel_i = hotel_i.dropna().sort_values(by=['values','index'])['index'] #soting\n",
    "        guest4hotel_i = hotel_i[:free_rooms[i]].values #take values of guests for free rooms\n",
    "        for name_guest in guest4hotel_i:\n",
    "            choice_matrix[name_guest][i] = 1\n",
    "            pref_by_price.iloc[:][name_guest]= np.nan\n",
    "            \n",
    "    return results(choice_matrix)"
   ]
  },
  {
   "cell_type": "code",
   "execution_count": null,
   "metadata": {
    "colab": {
     "base_uri": "https://localhost:8080/"
    },
    "id": "UvixdWU6_-G6",
    "outputId": "3c06d79f-0355-49af-8420-48acd57ec50e"
   },
   "outputs": [],
   "source": [
    "random_results_array = random_model(hotels, vec_prices, vec_discount, rank_matrix, t=1000) #return the results of random model in array"
   ]
  },
  {
   "cell_type": "code",
   "execution_count": null,
   "metadata": {
    "colab": {
     "base_uri": "https://localhost:8080/"
    },
    "id": "W5IICsyrR7Bq",
    "outputId": "adcdfa18-4ab8-493f-c9f4-6f8dd8403926"
   },
   "outputs": [],
   "source": [
    "#preference_model(hotels, vec_prices, rank_matrix)"
   ]
  },
  {
   "cell_type": "code",
   "execution_count": 12,
   "metadata": {},
   "outputs": [
    {
     "data": {
      "text/plain": [
       "[4000.0, 4000.0, 341, 633529.3699999999, 3679.8077205786803]"
      ]
     },
     "execution_count": 12,
     "metadata": {},
     "output_type": "execute_result"
    }
   ],
   "source": [
    "room_model(hotels, rank_matrix)"
   ]
  },
  {
   "cell_type": "code",
   "execution_count": null,
   "metadata": {},
   "outputs": [],
   "source": [
    "#price_model(hotels, rank_matrix)"
   ]
  },
  {
   "cell_type": "code",
   "execution_count": null,
   "metadata": {},
   "outputs": [],
   "source": [
    "#We memorize the results in variables and then put them into the matrix\n",
    "#random_model_results = random_results_array.mean(axis=0)\n",
    "#preference_model_results = preference_model(hotels, vec_prices, rank_matrix)\n",
    "#room_model_results = room_model(hotels, rank_matrix)\n",
    "#price_model_results = price_model(hotels, rank_matrix)\n",
    "#matrix_results = np.array([random_model_results, preference_model_results, room_model_results, price_model_results])"
   ]
  },
  {
   "cell_type": "code",
   "execution_count": null,
   "metadata": {},
   "outputs": [],
   "source": [
    "matrix_results = np.array([random_results_array.mean(axis=0), preference_model(hotels, vec_prices, rank_matrix), room_model(hotels, rank_matrix), price_model(hotels, rank_matrix)])\n",
    "matrix_results"
   ]
  },
  {
   "cell_type": "code",
   "execution_count": null,
   "metadata": {},
   "outputs": [],
   "source": [
    "#Define a dataframe with matrix_results\n",
    "df_matrix_results = pd.DataFrame(matrix_results, index = ['Random Model', 'Preference Model', 'Availability Model', 'Price Model'], columns = ['Number of Clients arranged','Number of Rooms occupied','Number of Hotels','Revenue', 'Degree of satisfaction'])\n",
    "df_matrix_results.astype(int)"
   ]
  },
  {
   "cell_type": "code",
   "execution_count": null,
   "metadata": {},
   "outputs": [],
   "source": [
    "fig, axes = plt.subplots(nrows=1, ncols=5, figsize=(20, 4))\n",
    "x = ['Random', 'Pref', 'Rooms', 'Price']\n",
    "axes[0].bar(x, matrix_results[:,0], color = sns.color_palette(\"viridis\"))\n",
    "axes[0].set_title(\"Number of clients\")\n",
    "axes[0].set_ylim(3900,4050)\n",
    "axes[1].bar(x, matrix_results[:,1], color = sns.color_palette(\"rocket\"))\n",
    "axes[1].set_title(\"Number of rooms\")\n",
    "axes[1].set_ylim(3900,4050)\n",
    "axes[2].bar(x, matrix_results[:,2], color = sns.color_palette(\"magma\"))\n",
    "axes[2].set_title(\"Number of hotels\")\n",
    "axes[2].set_ylim(300,410)\n",
    "axes[3].bar(x, matrix_results[:,3], color = sns.color_palette(\"flare\"))\n",
    "axes[3].set_title(\"Revenue\")\n",
    "axes[3].set_ylim(570000,650000)\n",
    "axes[4].bar(x, matrix_results[:,4], color = sns.color_palette(\"mako\"))\n",
    "axes[4].set_title(\"Degree of satisfaction\")\n",
    "axes[4].set_ylim(100,4050)"
   ]
  },
  {
   "cell_type": "code",
   "execution_count": null,
   "metadata": {},
   "outputs": [],
   "source": [
    "#fig, axes = plt.subplots(nrows=1, ncols=2, figsize=(15, 5)) #value of array defined before\n",
    "#axes[0].boxplot([random_results_array[:,3], preference_model_results[3], room_model_results[3], price_model_results[3]])\n",
    "#axes[0].set_title(\"Revenue\")\n",
    "#axes[1].boxplot([random_results_array[:,4], preference_model_results[4], room_model_results[4], price_model_results[4]])\n",
    "#axes[1].set_title(\"Degree of satisfaction\")"
   ]
  },
  {
   "cell_type": "code",
   "execution_count": null,
   "metadata": {},
   "outputs": [],
   "source": [
    "fig, axes = plt.subplots(nrows=1, ncols=2, figsize=(15, 5)) #values of matrix_results\n",
    "axes[0].boxplot([random_results_array[:,3], matrix_results[1, 3], matrix_results[2, 3], matrix_results[3, 3]])\n",
    "axes[0].set_title(\"Revenue\")\n",
    "axes[1].boxplot([random_results_array[:,4], matrix_results[1, 4], matrix_results[2, 4], matrix_results[3, 4]])\n",
    "axes[1].set_title(\"Degree of satisfaction\")"
   ]
  },
  {
   "cell_type": "code",
   "execution_count": null,
   "metadata": {},
   "outputs": [],
   "source": [
    "pd.DataFrame(random_results_array, columns = ['Number of Clients arranged','Number of Rooms occupied','Number of Hotels','Revenue', 'Degree of satisfaction']).describe()"
   ]
  },
  {
   "cell_type": "code",
   "execution_count": null,
   "metadata": {},
   "outputs": [],
   "source": [
    "sns.histplot(random_results_array[:,3], bins = 50, color = 'darkcyan') #plot an histogram - Revenue for Random Model"
   ]
  },
  {
   "cell_type": "code",
   "execution_count": null,
   "metadata": {},
   "outputs": [],
   "source": [
    "sns.histplot(random_results_array[:,4], color = 'darkcyan') #plot an histogram - Degree of satisfaction for Random Model   "
   ]
  },
  {
   "cell_type": "code",
   "execution_count": null,
   "metadata": {},
   "outputs": [],
   "source": []
  },
  {
   "cell_type": "code",
   "execution_count": null,
   "metadata": {},
   "outputs": [],
   "source": []
  }
 ],
 "metadata": {
  "colab": {
   "collapsed_sections": [],
   "name": "MasterDS_Python_project2",
   "provenance": []
  },
  "kernelspec": {
   "display_name": "Python 3",
   "language": "python",
   "name": "python3"
  },
  "language_info": {
   "codemirror_mode": {
    "name": "ipython",
    "version": 3
   },
   "file_extension": ".py",
   "mimetype": "text/x-python",
   "name": "python",
   "nbconvert_exporter": "python",
   "pygments_lexer": "ipython3",
   "version": "3.7.7"
  }
 },
 "nbformat": 4,
 "nbformat_minor": 1
}
