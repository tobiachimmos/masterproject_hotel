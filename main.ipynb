{
 "cells": [
  {
   "cell_type": "code",
   "execution_count": 1,
   "metadata": {
    "id": "QVERzr8N_dNs"
   },
   "outputs": [],
   "source": [
    "import pandas as pd\n",
    "import numpy as np\n",
    "import matplotlib.pyplot as plt \n",
    "import seaborn as sns"
   ]
  },
  {
   "cell_type": "code",
   "execution_count": 2,
   "metadata": {
    "id": "5Vu4KTBI_dUu"
   },
   "outputs": [],
   "source": [
    "guests = pd.read_excel(\"data/guests.xlsx\", index_col=0)\n",
    "guests.drop(\"guest\", axis= 1, inplace = True)\n",
    "guests = 1 - guests \n",
    "vec_discount = guests[\"discount\"].values #converts the discount column to a vector"
   ]
  },
  {
   "cell_type": "code",
   "execution_count": 3,
   "metadata": {
    "id": "reX2_W6J_dar"
   },
   "outputs": [],
   "source": [
    "hotels = pd.read_excel(\"data/hotels.xlsx\", index_col=0)\n",
    "vec_prices = hotels[\"price\"].values"
   ]
  },
  {
   "cell_type": "code",
   "execution_count": 4,
   "metadata": {
    "id": "IzoQth2j_z1b"
   },
   "outputs": [],
   "source": [
    "preferences = pd.read_excel(\"data/preferences.xlsx\", index_col=0)\n",
    "preferences[\"guest\"] = pd.to_numeric(preferences[\"guest\"].str.replace('guest_','')) - 1\n",
    "preferences[\"hotel\"] = pd.to_numeric(preferences[\"hotel\"].str.replace('hotel_','')) - 1\n",
    "pref_pivoted = pd.pivot_table(preferences, index ='guest', columns ='hotel', values= \"priority\" , aggfunc=\"min\") #it pivots the original dataframe to get to a matrix-like format\n",
    "rank_matrix = pref_pivoted.rank(axis = 1, method=\"dense\").values #reorders preferences"
   ]
  },
  {
   "cell_type": "code",
   "execution_count": 5,
   "metadata": {
    "id": "KIEiyzb-_deA"
   },
   "outputs": [],
   "source": [
    "def to_utility_matrix(rank_matrix):\n",
    "  user_utility = []\n",
    "  for row in rank_matrix:\n",
    "    utility_values = np.linspace(start=1, stop= 0.1, num=len(set(row[~np.isnan(row)]))) #utility goes from 1 to 0.1 split evenly between preferences\n",
    "    user_utility.append([utility_values[int(i)-1] if i == i else i for i in row ]) #i == i to check if i is not nan \n",
    "  return np.nan_to_num(np.array(user_utility), nan = 0)"
   ]
  },
  {
   "cell_type": "code",
   "execution_count": 6,
   "metadata": {
    "id": "dsz7Gt9-_dhE"
   },
   "outputs": [],
   "source": [
    "utility_matrix = to_utility_matrix(rank_matrix)"
   ]
  },
  {
   "cell_type": "code",
   "execution_count": 7,
   "metadata": {
    "id": "_i3rKAzlADiw"
   },
   "outputs": [],
   "source": [
    "def results(choice_matrix, vec_prices=vec_prices, vec_discount=vec_discount, utility_matrix=utility_matrix):\n",
    "  guests_placed = choice_matrix.sum(axis=1).sum()\n",
    "  rooms_occupied = choice_matrix.sum(axis=0).sum()\n",
    "  hotels_occupied = np.where(choice_matrix.sum(axis=0) > 0, 1, 0).sum()\n",
    "  prices_matrix = vec_prices * choice_matrix #all 1s in the matrix will be replaced by that hotel's price\n",
    "  discount_matrix = np.multiply(prices_matrix, vec_discount[:, np.newaxis]) #the room price is then discounted for each user\n",
    "  revenue = discount_matrix.sum()\n",
    "  utility = np.multiply(choice_matrix, utility_matrix).sum()\n",
    "  return([guests_placed, rooms_occupied, hotels_occupied, revenue, utility])"
   ]
  },
  {
   "cell_type": "code",
   "execution_count": 8,
   "metadata": {
    "id": "f_os2hOZADwG"
   },
   "outputs": [],
   "source": [
    "def random_model(hotels, vec_prices, vec_discount, rank_matrix, t=1000):\n",
    "  guest_count, room_count = rank_matrix.shape[0] , hotels[\"rooms\"].sum()\n",
    "  least = min([guest_count, room_count])\n",
    "  vec_rooms = np.repeat(hotels[\"price\"], hotels[\"rooms\"]).index.values #Denormalized the dataframe\n",
    "  res = [] \n",
    "  for _ in range(t):\n",
    "    choice_matrix = np.zeros(rank_matrix.shape) #creates filled with zeros 4000 x 400\n",
    "    random_rooms = np.random.choice(vec_rooms, least, replace=False ) #selects randomly 4000 rooms from all possible rooms\n",
    "    choice_matrix[tuple(range(least)),tuple(random_rooms)] = 1 #assign 1 in the choice matrix where room is occupied\n",
    "    res.append(results(choice_matrix, vec_prices, vec_discount))\n",
    "  return np.array(res)"
   ]
  },
  {
   "cell_type": "code",
   "execution_count": 9,
   "metadata": {
    "id": "KdLkIL9VAD4V"
   },
   "outputs": [],
   "source": [
    "def preference_model(hotels, rank_matrix):\n",
    "  rank_matrix_filled, choice_matrix  = np.nan_to_num(rank_matrix), np.zeros(rank_matrix.shape) \n",
    "  rooms = hotels[\"rooms\"].values\n",
    "  for idx, row in enumerate(rank_matrix_filled):\n",
    "    c = np.multiply(row, np.where(rooms > 0, 1, 0) ) #sets preferences values to 0 where there is no room availability\n",
    "    try:\n",
    "      user_choice = np.where(c == np.min(c[np.nonzero(c)]), 1, 0) #The minimum nonzero is converted to 1 and the rest to 0\n",
    "      choice_matrix[(idx),] = user_choice\n",
    "      rooms = rooms - user_choice #subtract 1 from the room availability where it's now occupied \n",
    "    except ValueError: #pass if array are all zeros\n",
    "     pass\n",
    "  return  results(choice_matrix)"
   ]
  },
  {
   "cell_type": "code",
   "execution_count": 10,
   "metadata": {
    "id": "NKR_SsMwARS-"
   },
   "outputs": [],
   "source": [
    "def room_model(hotels, rank_matrix):\n",
    "    choice_matrix = np.zeros(rank_matrix.shape) \n",
    "    pref_pivoted = pd.DataFrame(rank_matrix).T\n",
    "    pref_pivoted[\"price\"] = hotels[\"price\"]\n",
    "    pref_pivoted[\"rooms\"] =  hotels[\"rooms\"] #add columns with number of rooms and price per hotel\n",
    "    h_rooms = pref_pivoted.sort_values(by=['rooms', 'price'], ascending=[False, True]) # DF sorted by number of rooms and price\n",
    "    h_rooms = h_rooms.drop(columns=[\"rooms\",\"price\"]) # drop columns 'rooms' and 'price'\n",
    "    rooms = hotels[\"rooms\"].values # available rooms per hotel\n",
    "\n",
    "    for h, rows in h_rooms.iterrows():                          \n",
    "        df_pref = pd.DataFrame(rows.values, columns=['values']) # for each row in h_rooms: create DF with row values (preferences) and index\n",
    "        df_pref['index'] = df_pref.index.values \n",
    "        sorted_guests = df_pref.dropna().sort_values(by=['values','index'])['index'] # dropna, sort DF and consider 'index' of the remaining guests\n",
    "        selected_guests = sorted_guests[:rooms[h]].values # select as many guests as possible (maximum number: rooms[h])\n",
    "        \n",
    "        for guest in selected_guests:\n",
    "            choice_matrix[guest][h] = 1 # add selected guests to the choice_matrix\n",
    "            h_rooms.iloc[:][guest]= np.nan # for each selected guest transform preference values in np.nan \n",
    "    return  results(choice_matrix)"
   ]
  },
  {
   "cell_type": "code",
   "execution_count": 11,
   "metadata": {
    "id": "v_LAQumNARXM"
   },
   "outputs": [],
   "source": [
    "def price_model(hotels, rank_matrix):\n",
    "    choice_matrix = np.zeros(rank_matrix.shape) #define matrix with zeros, same shape as rank_matrix\n",
    "    pref_pivoted = pd.DataFrame(rank_matrix).T \n",
    "    pref_pivoted[\"price\"] = hotels[\"price\"] #add a column with prices per hotel\n",
    "    pref_pivoted[\"rooms\"] = hotels[\"rooms\"] #add a column with number of rooms per hotel\n",
    "    pref_by_price = pref_pivoted.sort_values(by=['price', 'rooms'], ascending=[True, False]) #sorted by price and more rooms\n",
    "    pref_by_price = pref_by_price.drop(columns=[\"rooms\",\"price\"]) #drop columns: price and rooms\n",
    "    free_rooms = hotels[\"rooms\"].values #vector of rooms from dataset hotels\n",
    "    \n",
    "    for i, rows in pref_by_price.iterrows(): #for hotel with name i, consider the row of guests\n",
    "        hotel_i = pd.DataFrame(rows.values, columns=['values']) #transforming the row in dataframe \n",
    "        hotel_i['index'] = hotel_i.index.values #consider the index of values\n",
    "        hotel_i = hotel_i.dropna().sort_values(by=['values','index'])['index'] #soting\n",
    "        guest4hotel_i = hotel_i[:free_rooms[i]].values #take values of guests for free rooms\n",
    "        \n",
    "        for name_guest in guest4hotel_i:\n",
    "            choice_matrix[name_guest][i] = 1\n",
    "            pref_by_price.iloc[:][name_guest]= np.nan\n",
    "    return results(choice_matrix)"
   ]
  },
  {
   "cell_type": "code",
   "execution_count": 12,
   "metadata": {
    "id": "fKlK51qcAi48"
   },
   "outputs": [],
   "source": [
    "random_results_array = random_model(hotels, vec_prices, vec_discount, rank_matrix, t=100000) "
   ]
  },
  {
   "cell_type": "code",
   "execution_count": 13,
   "metadata": {
    "id": "y1JibU9MBzj_"
   },
   "outputs": [],
   "source": [
    "matrix_results = np.array([random_results_array.mean(axis=0),\n",
    "                           preference_model(hotels, rank_matrix),\n",
    "                           room_model(hotels, rank_matrix),\n",
    "                           price_model(hotels, rank_matrix)])"
   ]
  },
  {
   "cell_type": "code",
   "execution_count": 14,
   "metadata": {
    "colab": {
     "base_uri": "https://localhost:8080/",
     "height": 172
    },
    "id": "bf0HQRfhD89O",
    "outputId": "100e628e-03f6-48bf-e13f-d40a7aa97060"
   },
   "outputs": [
    {
     "data": {
      "text/html": [
       "<div>\n",
       "<style scoped>\n",
       "    .dataframe tbody tr th:only-of-type {\n",
       "        vertical-align: middle;\n",
       "    }\n",
       "\n",
       "    .dataframe tbody tr th {\n",
       "        vertical-align: top;\n",
       "    }\n",
       "\n",
       "    .dataframe thead th {\n",
       "        text-align: right;\n",
       "    }\n",
       "</style>\n",
       "<table border=\"1\" class=\"dataframe\">\n",
       "  <thead>\n",
       "    <tr style=\"text-align: right;\">\n",
       "      <th></th>\n",
       "      <th>Guests</th>\n",
       "      <th>Rooms</th>\n",
       "      <th>Hotels</th>\n",
       "      <th>Revenue</th>\n",
       "      <th>Satisfaction</th>\n",
       "    </tr>\n",
       "  </thead>\n",
       "  <tbody>\n",
       "    <tr>\n",
       "      <th>Random Model</th>\n",
       "      <td>4000</td>\n",
       "      <td>4000</td>\n",
       "      <td>399</td>\n",
       "      <td>640448</td>\n",
       "      <td>131</td>\n",
       "    </tr>\n",
       "    <tr>\n",
       "      <th>Preference Model</th>\n",
       "      <td>3975</td>\n",
       "      <td>3975</td>\n",
       "      <td>400</td>\n",
       "      <td>643597</td>\n",
       "      <td>3895</td>\n",
       "    </tr>\n",
       "    <tr>\n",
       "      <th>Availability Model</th>\n",
       "      <td>4000</td>\n",
       "      <td>4000</td>\n",
       "      <td>341</td>\n",
       "      <td>633529</td>\n",
       "      <td>3679</td>\n",
       "    </tr>\n",
       "    <tr>\n",
       "      <th>Price Model</th>\n",
       "      <td>3990</td>\n",
       "      <td>3990</td>\n",
       "      <td>383</td>\n",
       "      <td>578798</td>\n",
       "      <td>3685</td>\n",
       "    </tr>\n",
       "  </tbody>\n",
       "</table>\n",
       "</div>"
      ],
      "text/plain": [
       "                    Guests  Rooms  Hotels  Revenue  Satisfaction\n",
       "Random Model          4000   4000     399   640448           131\n",
       "Preference Model      3975   3975     400   643597          3895\n",
       "Availability Model    4000   4000     341   633529          3679\n",
       "Price Model           3990   3990     383   578798          3685"
      ]
     },
     "execution_count": 14,
     "metadata": {},
     "output_type": "execute_result"
    }
   ],
   "source": [
    "pd.DataFrame(matrix_results, index = ['Random Model','Preference Model','Availability Model','Price Model'], columns = ['Guests','Rooms','Hotels','Revenue', 'Satisfaction']).astype(int)"
   ]
  },
  {
   "cell_type": "code",
   "execution_count": 15,
   "metadata": {
    "colab": {
     "base_uri": "https://localhost:8080/",
     "height": 281
    },
    "id": "cfuNwj2SEanv",
    "outputId": "67427eb8-6d04-43ad-bf6f-7e93e0e8a4d3"
   },
   "outputs": [
    {
     "data": {
      "image/png": "[encoded data removed]",
      "text/plain": [
       "<Figure size 1440x288 with 5 Axes>"
      ]
     },
     "metadata": {
      "needs_background": "light"
     },
     "output_type": "display_data"
    }
   ],
   "source": [
    "fig, axes = plt.subplots(nrows=1, ncols=5, figsize=(20, 4))\n",
    "x = ['Random', 'Pref', 'Rooms', 'Price']\n",
    "clr = sns.color_palette(\"viridis\")\n",
    "axes[0].bar(x, matrix_results[:,0], color = clr )\n",
    "axes[0].set_title(\"Number of clients\")\n",
    "axes[0].set_ylim(3900,4020)\n",
    "axes[1].bar(x, matrix_results[:,1], color = clr)\n",
    "axes[1].set_title(\"Number of rooms\")\n",
    "axes[1].set_ylim(3900,4020)\n",
    "axes[2].bar(x, matrix_results[:,2], color = clr)\n",
    "axes[2].set_title(\"Number of hotels\")\n",
    "axes[2].set_ylim(300,410)\n",
    "axes[3].bar(x, matrix_results[:,3], color = clr)\n",
    "axes[3].set_title(\"Revenue\")\n",
    "axes[3].set_ylim(570000,650000)\n",
    "axes[4].bar(x, matrix_results[:,4], color = clr)\n",
    "axes[4].set_title(\"Degree of satisfaction\")\n",
    "axes[4].set_ylim(100,4050);"
   ]
  },
  {
   "cell_type": "code",
   "execution_count": 16,
   "metadata": {
    "colab": {
     "base_uri": "https://localhost:8080/",
     "height": 295
    },
    "id": "swi3aX04ETRA",
    "outputId": "c9438ac7-a836-4f77-de73-2a9db661647d"
   },
   "outputs": [
    {
     "data": {
      "text/html": [
       "<div>\n",
       "<style scoped>\n",
       "    .dataframe tbody tr th:only-of-type {\n",
       "        vertical-align: middle;\n",
       "    }\n",
       "\n",
       "    .dataframe tbody tr th {\n",
       "        vertical-align: top;\n",
       "    }\n",
       "\n",
       "    .dataframe thead th {\n",
       "        text-align: right;\n",
       "    }\n",
       "</style>\n",
       "<table border=\"1\" class=\"dataframe\">\n",
       "  <thead>\n",
       "    <tr style=\"text-align: right;\">\n",
       "      <th></th>\n",
       "      <th>Guests</th>\n",
       "      <th>Rooms</th>\n",
       "      <th>Hotels</th>\n",
       "      <th>Revenue</th>\n",
       "      <th>Satisfaction</th>\n",
       "    </tr>\n",
       "  </thead>\n",
       "  <tbody>\n",
       "    <tr>\n",
       "      <th>count</th>\n",
       "      <td>100000.0</td>\n",
       "      <td>100000.0</td>\n",
       "      <td>100000.000</td>\n",
       "      <td>100000.000</td>\n",
       "      <td>100000.000</td>\n",
       "    </tr>\n",
       "    <tr>\n",
       "      <th>mean</th>\n",
       "      <td>4000.0</td>\n",
       "      <td>4000.0</td>\n",
       "      <td>399.998</td>\n",
       "      <td>640448.853</td>\n",
       "      <td>131.857</td>\n",
       "    </tr>\n",
       "    <tr>\n",
       "      <th>std</th>\n",
       "      <td>0.0</td>\n",
       "      <td>0.0</td>\n",
       "      <td>0.040</td>\n",
       "      <td>1562.564</td>\n",
       "      <td>9.209</td>\n",
       "    </tr>\n",
       "    <tr>\n",
       "      <th>min</th>\n",
       "      <td>4000.0</td>\n",
       "      <td>4000.0</td>\n",
       "      <td>399.000</td>\n",
       "      <td>633864.690</td>\n",
       "      <td>95.867</td>\n",
       "    </tr>\n",
       "    <tr>\n",
       "      <th>25%</th>\n",
       "      <td>4000.0</td>\n",
       "      <td>4000.0</td>\n",
       "      <td>400.000</td>\n",
       "      <td>639391.908</td>\n",
       "      <td>125.567</td>\n",
       "    </tr>\n",
       "    <tr>\n",
       "      <th>50%</th>\n",
       "      <td>4000.0</td>\n",
       "      <td>4000.0</td>\n",
       "      <td>400.000</td>\n",
       "      <td>640450.195</td>\n",
       "      <td>131.720</td>\n",
       "    </tr>\n",
       "    <tr>\n",
       "      <th>75%</th>\n",
       "      <td>4000.0</td>\n",
       "      <td>4000.0</td>\n",
       "      <td>400.000</td>\n",
       "      <td>641503.888</td>\n",
       "      <td>138.018</td>\n",
       "    </tr>\n",
       "    <tr>\n",
       "      <th>max</th>\n",
       "      <td>4000.0</td>\n",
       "      <td>4000.0</td>\n",
       "      <td>400.000</td>\n",
       "      <td>648352.300</td>\n",
       "      <td>171.644</td>\n",
       "    </tr>\n",
       "  </tbody>\n",
       "</table>\n",
       "</div>"
      ],
      "text/plain": [
       "         Guests     Rooms      Hotels     Revenue  Satisfaction\n",
       "count  100000.0  100000.0  100000.000  100000.000    100000.000\n",
       "mean     4000.0    4000.0     399.998  640448.853       131.857\n",
       "std         0.0       0.0       0.040    1562.564         9.209\n",
       "min      4000.0    4000.0     399.000  633864.690        95.867\n",
       "25%      4000.0    4000.0     400.000  639391.908       125.567\n",
       "50%      4000.0    4000.0     400.000  640450.195       131.720\n",
       "75%      4000.0    4000.0     400.000  641503.888       138.018\n",
       "max      4000.0    4000.0     400.000  648352.300       171.644"
      ]
     },
     "execution_count": 16,
     "metadata": {},
     "output_type": "execute_result"
    }
   ],
   "source": [
    "pd.DataFrame(random_results_array, columns = ['Guests','Rooms','Hotels','Revenue', 'Satisfaction']).describe().round(3)"
   ]
  },
  {
   "cell_type": "code",
   "execution_count": 17,
   "metadata": {
    "colab": {
     "base_uri": "https://localhost:8080/",
     "height": 424
    },
    "id": "hSVUiYQbFJ5G",
    "outputId": "ec55c951-ad62-4351-f4ab-f2ac98ef5197"
   },
   "outputs": [
    {
     "data": {
      "image/png": "[encoded data removed]",
      "text/plain": [
       "<Figure size 936x360 with 2 Axes>"
      ]
     },
     "metadata": {
      "needs_background": "light"
     },
     "output_type": "display_data"
    }
   ],
   "source": [
    "fig, axes = plt.subplots(nrows=1, ncols=2, figsize=(13, 5)) #values of matrix_results\n",
    "x = ['Random', 'Pref', 'Rooms', 'Price']\n",
    "axes[0].boxplot([random_results_array[:,3], matrix_results[1][3], matrix_results[2][3], matrix_results[3][3]], labels = x)\n",
    "axes[0].set_title(\"Revenue\")\n",
    "axes[1].boxplot([random_results_array[:,4], matrix_results[1][4], matrix_results[2][4], matrix_results[3][4]], labels = x)\n",
    "axes[1].set_title(\"Degree of satisfaction\");"
   ]
  },
  {
   "cell_type": "code",
   "execution_count": 18,
   "metadata": {
    "colab": {
     "base_uri": "https://localhost:8080/",
     "height": 265
    },
    "id": "q6Wzx1a-HQLM",
    "outputId": "8d6ba680-a334-4c24-8210-6a3c312059b0"
   },
   "outputs": [
    {
     "data": {
      "image/png": "[encoded data removed]",
      "text/plain": [
       "<Figure size 432x288 with 1 Axes>"
      ]
     },
     "metadata": {
      "needs_background": "light"
     },
     "output_type": "display_data"
    }
   ],
   "source": [
    "sns.histplot(random_results_array[:,3], color = 'darkcyan', kde=True) #Revenue for Random Model\n",
    "plt.axvline(np.median(random_results_array[:,3]), color ='b', linestyle='--')\n",
    "plt.axvline(np.mean(random_results_array[:,3]), color ='r', linestyle='-')\n",
    "plt.axvline(matrix_results[1][3], color ='orange', linestyle=':')\n",
    "plt.axvline(matrix_results[2][3], color ='magenta', linestyle=':')\n",
    "plt.legend(labels=['revenue Random','median Random', 'mean Random', \"revenue Pref\", \"revenue Rooms\"]);"
   ]
  },
  {
   "cell_type": "code",
   "execution_count": 19,
   "metadata": {
    "colab": {
     "base_uri": "https://localhost:8080/",
     "height": 265
    },
    "id": "o_5E8Ms5NGe7",
    "outputId": "6d05f3e9-22fe-4e76-9dd0-bceb00d5efbf"
   },
   "outputs": [
    {
     "data": {
      "image/png": "[encoded data removed]",
      "text/plain": [
       "<Figure size 432x288 with 1 Axes>"
      ]
     },
     "metadata": {
      "needs_background": "light"
     },
     "output_type": "display_data"
    }
   ],
   "source": [
    "sns.histplot(random_results_array[:,4], kde=True) #Degree of satisfaction for Random Model\n",
    "plt.axvline(np.median(random_results_array[:,4]), color ='b', linestyle='--')\n",
    "plt.axvline(np.mean(random_results_array[:,4]), color ='r', linestyle='-')\n",
    "plt.legend(labels=['Satisfaction','median', 'mean']);"
   ]
  },
  {
   "cell_type": "code",
   "execution_count": null,
   "metadata": {},
   "outputs": [],
   "source": []
  }
 ],
 "metadata": {
  "colab": {
   "collapsed_sections": [],
   "name": "MasterDS_Python_project2",
   "provenance": []
  },
  "kernelspec": {
   "display_name": "Python 3",
   "language": "python",
   "name": "python3"
  },
  "language_info": {
   "codemirror_mode": {
    "name": "ipython",
    "version": 3
   },
   "file_extension": ".py",
   "mimetype": "text/x-python",
   "name": "python",
   "nbconvert_exporter": "python",
   "pygments_lexer": "ipython3",
   "version": "3.8.5"
  }
 },
 "nbformat": 4,
 "nbformat_minor": 1
}
