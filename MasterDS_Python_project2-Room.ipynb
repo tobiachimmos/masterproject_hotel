{
 "cells": [
  {
   "cell_type": "code",
   "execution_count": 1,
   "metadata": {
    "id": "ZpJiONtn4HQY"
   },
   "outputs": [],
   "source": [
    "import pandas as pd\n",
    "import numpy as np"
   ]
  },
  {
   "cell_type": "code",
   "execution_count": 3,
   "metadata": {
    "id": "Kg0e5qL2Cd32"
   },
   "outputs": [],
   "source": [
    "guests = pd.read_excel(\"data/guests.xlsx\", index_col=0)\n",
    "guests.drop(\"guest\", axis= 1, inplace = True)\n",
    "guests = 1 - guests \n",
    "vec_discount = guests[\"discount\"].values #converts the discount column to a vector"
   ]
  },
  {
   "cell_type": "code",
   "execution_count": 4,
   "metadata": {
    "id": "c4AxmWzTCeB9"
   },
   "outputs": [],
   "source": [
    "hotels = pd.read_excel(\"data/hotels.xlsx\", index_col=0)\n",
    "vec_prices = hotels[\"price\"].values"
   ]
  },
  {
   "cell_type": "code",
   "execution_count": 5,
   "metadata": {
    "id": "yXQyb0iPhWVT"
   },
   "outputs": [],
   "source": [
    "#Viene creata un Dataframe, ma adesso gli hotel sono le rows e i guest le columns.\n",
    "preferences = pd.read_excel(\"data/preferences.xlsx\", index_col=0)\n",
    "preferences[\"guest\"] = pd.to_numeric(preferences[\"guest\"].str.replace('guest_','')) - 1\n",
    "preferences[\"hotel\"] = pd.to_numeric(preferences[\"hotel\"].str.replace('hotel_','')) - 1\n",
    "pref_pivoted = pd.pivot_table(preferences, index ='hotel', columns ='guest', values= \"priority\" , aggfunc=\"min\") #it pivots the original dataframe to get to a matrix-like format\n",
    "rank_matrix = pref_pivoted.rank(axis = 1, method=\"dense\").values #reorders preferences\n",
    "pref_pivoted =  pd.DataFrame(rank_matrix)"
   ]
  },
  {
   "cell_type": "code",
   "execution_count": 6,
   "metadata": {},
   "outputs": [
    {
     "data": {
      "text/plain": [
       "(400, 4000)"
      ]
     },
     "execution_count": 6,
     "metadata": {},
     "output_type": "execute_result"
    }
   ],
   "source": [
    "rank_matrix.shape"
   ]
  },
  {
   "cell_type": "code",
   "execution_count": 7,
   "metadata": {
    "scrolled": true
   },
   "outputs": [],
   "source": [
    "#Viene creato un Dataframe con hotel in ordine ascendente per numero di camere.\n",
    "pref_pivoted[\"price\"] = hotels[\"price\"]\n",
    "pref_pivoted[\"rooms\"] =  hotels[\"rooms\"] #add a column with number of rooms per hotel\n",
    "h_rooms = pref_pivoted.sort_values(by=['rooms','price'], ascending=[False,True]) #sorted by number of rooms\n",
    "#h_sorted = hotels.sort_values(by='rooms', ascending=False) #sorted by number of rooms\n",
    "h_rooms = h_rooms.drop(columns=[\"rooms\",\"price\"]) # drop column with number of rooms\n"
   ]
  },
  {
   "cell_type": "code",
   "execution_count": 8,
   "metadata": {},
   "outputs": [
    {
     "data": {
      "text/html": [
       "<div>\n",
       "<style scoped>\n",
       "    .dataframe tbody tr th:only-of-type {\n",
       "        vertical-align: middle;\n",
       "    }\n",
       "\n",
       "    .dataframe tbody tr th {\n",
       "        vertical-align: top;\n",
       "    }\n",
       "\n",
       "    .dataframe thead th {\n",
       "        text-align: right;\n",
       "    }\n",
       "</style>\n",
       "<table border=\"1\" class=\"dataframe\">\n",
       "  <thead>\n",
       "    <tr style=\"text-align: right;\">\n",
       "      <th></th>\n",
       "      <th>0</th>\n",
       "      <th>1</th>\n",
       "      <th>2</th>\n",
       "      <th>3</th>\n",
       "      <th>4</th>\n",
       "      <th>5</th>\n",
       "      <th>6</th>\n",
       "      <th>7</th>\n",
       "      <th>8</th>\n",
       "      <th>9</th>\n",
       "      <th>...</th>\n",
       "      <th>3990</th>\n",
       "      <th>3991</th>\n",
       "      <th>3992</th>\n",
       "      <th>3993</th>\n",
       "      <th>3994</th>\n",
       "      <th>3995</th>\n",
       "      <th>3996</th>\n",
       "      <th>3997</th>\n",
       "      <th>3998</th>\n",
       "      <th>3999</th>\n",
       "    </tr>\n",
       "  </thead>\n",
       "  <tbody>\n",
       "    <tr>\n",
       "      <th>48</th>\n",
       "      <td>NaN</td>\n",
       "      <td>NaN</td>\n",
       "      <td>NaN</td>\n",
       "      <td>NaN</td>\n",
       "      <td>NaN</td>\n",
       "      <td>3.0</td>\n",
       "      <td>NaN</td>\n",
       "      <td>NaN</td>\n",
       "      <td>NaN</td>\n",
       "      <td>NaN</td>\n",
       "      <td>...</td>\n",
       "      <td>NaN</td>\n",
       "      <td>NaN</td>\n",
       "      <td>NaN</td>\n",
       "      <td>26.0</td>\n",
       "      <td>NaN</td>\n",
       "      <td>NaN</td>\n",
       "      <td>NaN</td>\n",
       "      <td>28.0</td>\n",
       "      <td>NaN</td>\n",
       "      <td>NaN</td>\n",
       "    </tr>\n",
       "    <tr>\n",
       "      <th>25</th>\n",
       "      <td>NaN</td>\n",
       "      <td>23.0</td>\n",
       "      <td>NaN</td>\n",
       "      <td>NaN</td>\n",
       "      <td>NaN</td>\n",
       "      <td>NaN</td>\n",
       "      <td>NaN</td>\n",
       "      <td>NaN</td>\n",
       "      <td>NaN</td>\n",
       "      <td>NaN</td>\n",
       "      <td>...</td>\n",
       "      <td>NaN</td>\n",
       "      <td>NaN</td>\n",
       "      <td>NaN</td>\n",
       "      <td>25.0</td>\n",
       "      <td>NaN</td>\n",
       "      <td>NaN</td>\n",
       "      <td>NaN</td>\n",
       "      <td>NaN</td>\n",
       "      <td>NaN</td>\n",
       "      <td>NaN</td>\n",
       "    </tr>\n",
       "    <tr>\n",
       "      <th>52</th>\n",
       "      <td>NaN</td>\n",
       "      <td>NaN</td>\n",
       "      <td>NaN</td>\n",
       "      <td>NaN</td>\n",
       "      <td>NaN</td>\n",
       "      <td>NaN</td>\n",
       "      <td>NaN</td>\n",
       "      <td>NaN</td>\n",
       "      <td>NaN</td>\n",
       "      <td>NaN</td>\n",
       "      <td>...</td>\n",
       "      <td>NaN</td>\n",
       "      <td>NaN</td>\n",
       "      <td>NaN</td>\n",
       "      <td>NaN</td>\n",
       "      <td>NaN</td>\n",
       "      <td>22.0</td>\n",
       "      <td>NaN</td>\n",
       "      <td>NaN</td>\n",
       "      <td>NaN</td>\n",
       "      <td>NaN</td>\n",
       "    </tr>\n",
       "    <tr>\n",
       "      <th>128</th>\n",
       "      <td>7.0</td>\n",
       "      <td>NaN</td>\n",
       "      <td>NaN</td>\n",
       "      <td>NaN</td>\n",
       "      <td>NaN</td>\n",
       "      <td>NaN</td>\n",
       "      <td>NaN</td>\n",
       "      <td>NaN</td>\n",
       "      <td>NaN</td>\n",
       "      <td>NaN</td>\n",
       "      <td>...</td>\n",
       "      <td>NaN</td>\n",
       "      <td>NaN</td>\n",
       "      <td>NaN</td>\n",
       "      <td>NaN</td>\n",
       "      <td>NaN</td>\n",
       "      <td>NaN</td>\n",
       "      <td>NaN</td>\n",
       "      <td>NaN</td>\n",
       "      <td>NaN</td>\n",
       "      <td>6.0</td>\n",
       "    </tr>\n",
       "    <tr>\n",
       "      <th>365</th>\n",
       "      <td>NaN</td>\n",
       "      <td>NaN</td>\n",
       "      <td>NaN</td>\n",
       "      <td>NaN</td>\n",
       "      <td>NaN</td>\n",
       "      <td>NaN</td>\n",
       "      <td>NaN</td>\n",
       "      <td>NaN</td>\n",
       "      <td>NaN</td>\n",
       "      <td>NaN</td>\n",
       "      <td>...</td>\n",
       "      <td>NaN</td>\n",
       "      <td>NaN</td>\n",
       "      <td>NaN</td>\n",
       "      <td>NaN</td>\n",
       "      <td>NaN</td>\n",
       "      <td>NaN</td>\n",
       "      <td>NaN</td>\n",
       "      <td>NaN</td>\n",
       "      <td>NaN</td>\n",
       "      <td>NaN</td>\n",
       "    </tr>\n",
       "    <tr>\n",
       "      <th>...</th>\n",
       "      <td>...</td>\n",
       "      <td>...</td>\n",
       "      <td>...</td>\n",
       "      <td>...</td>\n",
       "      <td>...</td>\n",
       "      <td>...</td>\n",
       "      <td>...</td>\n",
       "      <td>...</td>\n",
       "      <td>...</td>\n",
       "      <td>...</td>\n",
       "      <td>...</td>\n",
       "      <td>...</td>\n",
       "      <td>...</td>\n",
       "      <td>...</td>\n",
       "      <td>...</td>\n",
       "      <td>...</td>\n",
       "      <td>...</td>\n",
       "      <td>...</td>\n",
       "      <td>...</td>\n",
       "      <td>...</td>\n",
       "      <td>...</td>\n",
       "    </tr>\n",
       "    <tr>\n",
       "      <th>323</th>\n",
       "      <td>NaN</td>\n",
       "      <td>NaN</td>\n",
       "      <td>NaN</td>\n",
       "      <td>NaN</td>\n",
       "      <td>NaN</td>\n",
       "      <td>NaN</td>\n",
       "      <td>NaN</td>\n",
       "      <td>NaN</td>\n",
       "      <td>NaN</td>\n",
       "      <td>NaN</td>\n",
       "      <td>...</td>\n",
       "      <td>NaN</td>\n",
       "      <td>NaN</td>\n",
       "      <td>NaN</td>\n",
       "      <td>NaN</td>\n",
       "      <td>NaN</td>\n",
       "      <td>NaN</td>\n",
       "      <td>NaN</td>\n",
       "      <td>NaN</td>\n",
       "      <td>NaN</td>\n",
       "      <td>NaN</td>\n",
       "    </tr>\n",
       "    <tr>\n",
       "      <th>84</th>\n",
       "      <td>NaN</td>\n",
       "      <td>NaN</td>\n",
       "      <td>NaN</td>\n",
       "      <td>NaN</td>\n",
       "      <td>11.0</td>\n",
       "      <td>NaN</td>\n",
       "      <td>NaN</td>\n",
       "      <td>NaN</td>\n",
       "      <td>NaN</td>\n",
       "      <td>NaN</td>\n",
       "      <td>...</td>\n",
       "      <td>NaN</td>\n",
       "      <td>NaN</td>\n",
       "      <td>NaN</td>\n",
       "      <td>NaN</td>\n",
       "      <td>NaN</td>\n",
       "      <td>NaN</td>\n",
       "      <td>15.0</td>\n",
       "      <td>NaN</td>\n",
       "      <td>NaN</td>\n",
       "      <td>NaN</td>\n",
       "    </tr>\n",
       "    <tr>\n",
       "      <th>94</th>\n",
       "      <td>NaN</td>\n",
       "      <td>NaN</td>\n",
       "      <td>NaN</td>\n",
       "      <td>NaN</td>\n",
       "      <td>NaN</td>\n",
       "      <td>NaN</td>\n",
       "      <td>NaN</td>\n",
       "      <td>NaN</td>\n",
       "      <td>NaN</td>\n",
       "      <td>3.0</td>\n",
       "      <td>...</td>\n",
       "      <td>NaN</td>\n",
       "      <td>26.0</td>\n",
       "      <td>NaN</td>\n",
       "      <td>NaN</td>\n",
       "      <td>NaN</td>\n",
       "      <td>NaN</td>\n",
       "      <td>NaN</td>\n",
       "      <td>NaN</td>\n",
       "      <td>NaN</td>\n",
       "      <td>NaN</td>\n",
       "    </tr>\n",
       "    <tr>\n",
       "      <th>301</th>\n",
       "      <td>NaN</td>\n",
       "      <td>NaN</td>\n",
       "      <td>NaN</td>\n",
       "      <td>NaN</td>\n",
       "      <td>NaN</td>\n",
       "      <td>NaN</td>\n",
       "      <td>NaN</td>\n",
       "      <td>NaN</td>\n",
       "      <td>NaN</td>\n",
       "      <td>NaN</td>\n",
       "      <td>...</td>\n",
       "      <td>NaN</td>\n",
       "      <td>NaN</td>\n",
       "      <td>NaN</td>\n",
       "      <td>NaN</td>\n",
       "      <td>NaN</td>\n",
       "      <td>NaN</td>\n",
       "      <td>NaN</td>\n",
       "      <td>27.0</td>\n",
       "      <td>NaN</td>\n",
       "      <td>NaN</td>\n",
       "    </tr>\n",
       "    <tr>\n",
       "      <th>288</th>\n",
       "      <td>NaN</td>\n",
       "      <td>NaN</td>\n",
       "      <td>NaN</td>\n",
       "      <td>NaN</td>\n",
       "      <td>NaN</td>\n",
       "      <td>NaN</td>\n",
       "      <td>NaN</td>\n",
       "      <td>NaN</td>\n",
       "      <td>NaN</td>\n",
       "      <td>NaN</td>\n",
       "      <td>...</td>\n",
       "      <td>NaN</td>\n",
       "      <td>NaN</td>\n",
       "      <td>NaN</td>\n",
       "      <td>NaN</td>\n",
       "      <td>NaN</td>\n",
       "      <td>NaN</td>\n",
       "      <td>NaN</td>\n",
       "      <td>NaN</td>\n",
       "      <td>NaN</td>\n",
       "      <td>NaN</td>\n",
       "    </tr>\n",
       "  </tbody>\n",
       "</table>\n",
       "<p>400 rows × 4000 columns</p>\n",
       "</div>"
      ],
      "text/plain": [
       "     0     1     2     3     4     5     6     7     8     9     ...  3990  \\\n",
       "48    NaN   NaN   NaN   NaN   NaN   3.0   NaN   NaN   NaN   NaN  ...   NaN   \n",
       "25    NaN  23.0   NaN   NaN   NaN   NaN   NaN   NaN   NaN   NaN  ...   NaN   \n",
       "52    NaN   NaN   NaN   NaN   NaN   NaN   NaN   NaN   NaN   NaN  ...   NaN   \n",
       "128   7.0   NaN   NaN   NaN   NaN   NaN   NaN   NaN   NaN   NaN  ...   NaN   \n",
       "365   NaN   NaN   NaN   NaN   NaN   NaN   NaN   NaN   NaN   NaN  ...   NaN   \n",
       "..    ...   ...   ...   ...   ...   ...   ...   ...   ...   ...  ...   ...   \n",
       "323   NaN   NaN   NaN   NaN   NaN   NaN   NaN   NaN   NaN   NaN  ...   NaN   \n",
       "84    NaN   NaN   NaN   NaN  11.0   NaN   NaN   NaN   NaN   NaN  ...   NaN   \n",
       "94    NaN   NaN   NaN   NaN   NaN   NaN   NaN   NaN   NaN   3.0  ...   NaN   \n",
       "301   NaN   NaN   NaN   NaN   NaN   NaN   NaN   NaN   NaN   NaN  ...   NaN   \n",
       "288   NaN   NaN   NaN   NaN   NaN   NaN   NaN   NaN   NaN   NaN  ...   NaN   \n",
       "\n",
       "     3991  3992  3993  3994  3995  3996  3997  3998  3999  \n",
       "48    NaN   NaN  26.0   NaN   NaN   NaN  28.0   NaN   NaN  \n",
       "25    NaN   NaN  25.0   NaN   NaN   NaN   NaN   NaN   NaN  \n",
       "52    NaN   NaN   NaN   NaN  22.0   NaN   NaN   NaN   NaN  \n",
       "128   NaN   NaN   NaN   NaN   NaN   NaN   NaN   NaN   6.0  \n",
       "365   NaN   NaN   NaN   NaN   NaN   NaN   NaN   NaN   NaN  \n",
       "..    ...   ...   ...   ...   ...   ...   ...   ...   ...  \n",
       "323   NaN   NaN   NaN   NaN   NaN   NaN   NaN   NaN   NaN  \n",
       "84    NaN   NaN   NaN   NaN   NaN  15.0   NaN   NaN   NaN  \n",
       "94   26.0   NaN   NaN   NaN   NaN   NaN   NaN   NaN   NaN  \n",
       "301   NaN   NaN   NaN   NaN   NaN   NaN  27.0   NaN   NaN  \n",
       "288   NaN   NaN   NaN   NaN   NaN   NaN   NaN   NaN   NaN  \n",
       "\n",
       "[400 rows x 4000 columns]"
      ]
     },
     "execution_count": 8,
     "metadata": {},
     "output_type": "execute_result"
    }
   ],
   "source": [
    "h_rooms"
   ]
  },
  {
   "cell_type": "code",
   "execution_count": 11,
   "metadata": {},
   "outputs": [],
   "source": [
    "dup = h_rooms ##### .save\n",
    "#def room_model(h_rooms):\n",
    "\n",
    "choice_matrix = np.zeros((4000,400)) ####rank_matrix.shape\n",
    "v= hotels[\"rooms\"].values\n",
    "\n",
    "for i,r in dup.iterrows():\n",
    "    x=r.sort_values()\n",
    "    x=x.dropna()\n",
    "    c=x[:v[i]]\n",
    "    for idx in c.index:\n",
    "        choice_matrix[idx][i] = 1\n",
    "            #dup.drop([idx], axis=1) ??????\n",
    "        dup.iloc[:][idx]= np.nan\n",
    "        \n",
    "        \n",
    "        \n",
    "        \n",
    "    #return  results(choice_matrix)\n",
    "\n",
    "\n",
    "\n",
    "\n",
    "\n",
    "\n"
   ]
  },
  {
   "cell_type": "code",
   "execution_count": 12,
   "metadata": {},
   "outputs": [
    {
     "data": {
      "text/plain": [
       "4000.0"
      ]
     },
     "execution_count": 12,
     "metadata": {},
     "output_type": "execute_result"
    }
   ],
   "source": [
    "choice_matrix.sum()"
   ]
  },
  {
   "cell_type": "code",
   "execution_count": 13,
   "metadata": {},
   "outputs": [
    {
     "data": {
      "text/plain": [
       "1.0"
      ]
     },
     "execution_count": 13,
     "metadata": {},
     "output_type": "execute_result"
    }
   ],
   "source": [
    "cm = pd.DataFrame(choice_matrix)\n",
    "cm.iloc[:][288].sum()"
   ]
  },
  {
   "cell_type": "code",
   "execution_count": null,
   "metadata": {},
   "outputs": [],
   "source": [
    "h_rooms #?????????????"
   ]
  },
  {
   "cell_type": "code",
   "execution_count": null,
   "metadata": {},
   "outputs": [],
   "source": [
    "choice_matrix[:][48] #???????"
   ]
  },
  {
   "cell_type": "markdown",
   "metadata": {},
   "source": [
    "#Viene creato un dataframe dove ogni rows corrispondente a un hotel viene ripetuta per il numero di camere.\n",
    "#l'indice delle rows viene replicato in modo da mantenere quello originale degli hotel.\n",
    "\n",
    "data = pd.DataFrame(np.repeat(h_rooms.values, h_sorted[\"rooms\"], axis=0)) \n",
    "index = pd.DataFrame(np.repeat(h_rooms.index.values, h_sorted[\"rooms\"], axis=0))\n",
    "data = np.nan_to_num(data)\n",
    "data = pd.DataFrame(data, index=index[0])\n",
    "data\n",
    "\n",
    " L'idea alla base di questo dataframe è che per ogni riga\n",
    "#si prende il numero più basso n (che corrisponde alla maggior preferenza) \n",
    "#e in caso di n>1 si sceglie quello con l'indice di colonna minore (che corrisponde all'ordine di prenotazione).\n",
    "#Il valore scelto viene trasformato in 1 mentre il resto della colonna in 0.\n",
    " Usando gli indici del dataframe (400 per le rows, 4000 per le columns) il valore scelto viene riportato nella choice_matrix (4000X400).\n"
   ]
  },
  {
   "cell_type": "code",
   "execution_count": null,
   "metadata": {},
   "outputs": [],
   "source": [
    "#Hic Sunt Leones"
   ]
  },
  {
   "cell_type": "markdown",
   "metadata": {},
   "source": [
    "obiettivo: choice_matrix 4000X400\n",
    "hotels abbiamo: indice, camere, prezzo\n"
   ]
  },
  {
   "cell_type": "code",
   "execution_count": null,
   "metadata": {},
   "outputs": [],
   "source": []
  },
  {
   "cell_type": "code",
   "execution_count": null,
   "metadata": {},
   "outputs": [],
   "source": []
  },
  {
   "cell_type": "code",
   "execution_count": null,
   "metadata": {},
   "outputs": [],
   "source": []
  },
  {
   "cell_type": "code",
   "execution_count": null,
   "metadata": {},
   "outputs": [],
   "source": []
  },
  {
   "cell_type": "code",
   "execution_count": null,
   "metadata": {
    "id": "ehljlkTjlz5E"
   },
   "outputs": [],
   "source": [
    "#This function creates a utility matrix from the ranked preferences matrix\n",
    "def to_utility_matrix(rank_matrix):\n",
    "  user_utility = []\n",
    "  for row in rank_matrix:\n",
    "    utility_values = np.linspace(start=1, stop= 0.1, num=len(set(row[~np.isnan(row)]))) #utility goes from 1 to 0.1 split evenly between preferences\n",
    "    user_utility.append([utility_values[int(i)-1] if i == i else i for i in row ]) #i == i to check if i is not nan \n",
    "  return np.nan_to_num(np.array(user_utility), nan = 0)"
   ]
  },
  {
   "cell_type": "code",
   "execution_count": null,
   "metadata": {
    "id": "Dbag1Ymxl1yq"
   },
   "outputs": [],
   "source": [
    "utility_matrix = to_utility_matrix(rank_matrix)"
   ]
  },
  {
   "cell_type": "code",
   "execution_count": null,
   "metadata": {
    "id": "pou_4Lfe1wYY"
   },
   "outputs": [],
   "source": [
    "# def print_output(res, guest_count, room_count, hotel_count, t):\n",
    "#   res_avg = np.round_(np.array(res).mean(axis=0), 3)\n",
    "#   print(f\"With {t} iterations, on average we have: \\n{res_avg[0]}/{guest_count} guests placed \\n{res_avg[1]}/{room_count} rooms occupied \\n{res_avg[2]}/{hotel_count} hotels occupied \\n{res_avg[3]} total revenue \\n{res_avg[4]} total satisfaction\")"
   ]
  },
  {
   "cell_type": "code",
   "execution_count": null,
   "metadata": {
    "id": "IdQZoy6eskYX"
   },
   "outputs": [],
   "source": [
    "def results(choice_matrix, vec_prices=vec_prices, vec_discount=vec_discount, utility_matrix=utility_matrix):\n",
    "  guests_placed = choice_matrix.sum(axis=1).sum()\n",
    "  rooms_occupied = choice_matrix.sum(axis=0).sum()\n",
    "  hotels_occupied = np.where(choice_matrix.sum(axis=0) > 0, 1, 0).sum()\n",
    "  prices_matrix = vec_prices * choice_matrix #all 1s in the matrix will be replaced by that hotel's price\n",
    "  discount_matrix = np.multiply(prices_matrix, vec_discount[:, np.newaxis]) #the room price is then discounted for each user\n",
    "  revenue = discount_matrix.sum()\n",
    "  utility = np.multiply(choice_matrix, utility_matrix).sum()\n",
    "  return([guests_placed, rooms_occupied, hotels_occupied, revenue, utility])"
   ]
  },
  {
   "cell_type": "code",
   "execution_count": null,
   "metadata": {
    "id": "OpT31n2ZCxak"
   },
   "outputs": [],
   "source": [
    "def random_model(hotels, vec_prices, vec_discount, rank_matrix, t=1000):\n",
    "  guest_count, room_count, hotel_count = rank_matrix.shape[0] , hotels[\"rooms\"].sum(), rank_matrix.shape[1]\n",
    "  least = min([guest_count, room_count])\n",
    "  res = []\n",
    "  vec_rooms = np.repeat(hotels[\"price\"], hotels[\"rooms\"]).index.values #Denormalized the dataframe by adding rows. This vec contains the hotel number as many times as its rooms \n",
    "  for _ in range(t):\n",
    "    choice_matrix = np.zeros(rank_matrix.shape) #creates filled with zeros 4000 x 400\n",
    "    random_rooms = np.random.choice(vec_rooms, least, replace=False ) #selects randomly 4000 rooms from all possible rooms\n",
    "    choice_matrix[tuple(range(least)),tuple(random_rooms)] = 1 #assign 1 to all occupied rooms given their indices\n",
    "    res.append(results(choice_matrix, vec_prices, vec_discount))\n",
    "  return list(np.array(res).mean(axis=0))"
   ]
  },
  {
   "cell_type": "code",
   "execution_count": null,
   "metadata": {
    "id": "5Ze4TXTMyKAD"
   },
   "outputs": [],
   "source": [
    "def preference_model(hotels, vec_prices, rank_matrix):\n",
    "  rank_matrix_filled, choice_matrix  = np.nan_to_num(rank_matrix), np.zeros(rank_matrix.shape) \n",
    "  rooms = hotels[\"rooms\"].values\n",
    "  for idx, row in enumerate(rank_matrix_filled):\n",
    "    c = np.multiply(row, np.where(rooms > 0, 1, 0) ) #sets preferences values to 0 where there is no room availability\n",
    "    try:\n",
    "      user_choice = np.where(c == np.min(c[np.nonzero(c)]), 1, 0) #The minimum nonzero is converted to 1 and the rest to 0\n",
    "      choice_matrix[(idx),] = user_choice\n",
    "      rooms = rooms - user_choice #subtract 1 from the room availability where it's now occupied \n",
    "    except ValueError: #pass if array are all zeros\n",
    "     pass\n",
    "  return  results(choice_matrix)"
   ]
  },
  {
   "cell_type": "code",
   "execution_count": null,
   "metadata": {
    "colab": {
     "base_uri": "https://localhost:8080/"
    },
    "id": "UvixdWU6_-G6",
    "outputId": "3c06d79f-0355-49af-8420-48acd57ec50e"
   },
   "outputs": [],
   "source": [
    "random_model(hotels, vec_prices, vec_discount, rank_matrix, t=1000)"
   ]
  },
  {
   "cell_type": "code",
   "execution_count": null,
   "metadata": {
    "colab": {
     "base_uri": "https://localhost:8080/"
    },
    "id": "W5IICsyrR7Bq",
    "outputId": "adcdfa18-4ab8-493f-c9f4-6f8dd8403926"
   },
   "outputs": [],
   "source": [
    "preference_model(hotels, vec_prices, rank_matrix)"
   ]
  },
  {
   "cell_type": "code",
   "execution_count": null,
   "metadata": {},
   "outputs": [],
   "source": []
  }
 ],
 "metadata": {
  "colab": {
   "collapsed_sections": [],
   "name": "MasterDS_Python_project2",
   "provenance": []
  },
  "kernelspec": {
   "display_name": "Python 3",
   "language": "python",
   "name": "python3"
  },
  "language_info": {
   "codemirror_mode": {
    "name": "ipython",
    "version": 3
   },
   "file_extension": ".py",
   "mimetype": "text/x-python",
   "name": "python",
   "nbconvert_exporter": "python",
   "pygments_lexer": "ipython3",
   "version": "3.7.7"
  }
 },
 "nbformat": 4,
 "nbformat_minor": 1
}
